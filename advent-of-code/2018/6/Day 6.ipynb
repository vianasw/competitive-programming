{
 "cells": [
  {
   "cell_type": "markdown",
   "metadata": {},
   "source": [
    "Problem definition: https://adventofcode.com/2018/day/6"
   ]
  },
  {
   "cell_type": "markdown",
   "metadata": {},
   "source": [
    "# Part 1"
   ]
  },
  {
   "cell_type": "code",
   "execution_count": 381,
   "metadata": {},
   "outputs": [],
   "source": [
    "from collections import namedtuple\n",
    "from collections import defaultdict\n",
    "\n",
    "Coordinate = namedtuple('Coordinate', 'x, y')"
   ]
  },
  {
   "cell_type": "markdown",
   "metadata": {},
   "source": [
    "## Grid creation"
   ]
  },
  {
   "cell_type": "code",
   "execution_count": 382,
   "metadata": {},
   "outputs": [],
   "source": [
    "def build_grid(coordinates):\n",
    "    max_x = max(coordinates, key=lambda c: c.x).x + 1\n",
    "    max_y = max(coordinates, key=lambda c: c.y).y + 1\n",
    "    grid = [[None] * max_x for _ in range(max_y)]\n",
    "    for c in coordinates:\n",
    "        for y in range(len(grid)):\n",
    "            for x in range(len(grid[0])):\n",
    "                if grid[y][x]:\n",
    "                    grid_coord = grid[y][x][0]\n",
    "                    cur_dist = manhattan_distance(Coordinate(x, y), grid_coord)\n",
    "                    new_dist = manhattan_distance(Coordinate(x, y), c)\n",
    "                    if new_dist < cur_dist:\n",
    "                        grid[y][x] = [c]\n",
    "                    elif new_dist == cur_dist:\n",
    "                        grid[y][x].append(c)\n",
    "                else:\n",
    "                    grid[y][x] = [c]\n",
    "    return grid"
   ]
  },
  {
   "cell_type": "code",
   "execution_count": 383,
   "metadata": {},
   "outputs": [],
   "source": [
    "def manhattan_distance(a, b):\n",
    "    return abs(a.x - b.x) + abs(a.y - b.y)"
   ]
  },
  {
   "cell_type": "markdown",
   "metadata": {},
   "source": [
    "Let's visualize the grid with the example input first."
   ]
  },
  {
   "cell_type": "code",
   "execution_count": 384,
   "metadata": {},
   "outputs": [],
   "source": [
    "coordinates = [list(map(int, line.strip().split(', '))) for line in open('example1.txt', 'r')]\n",
    "coordinates = [Coordinate(c[0], c[1]) for c in coordinates]"
   ]
  },
  {
   "cell_type": "code",
   "execution_count": 385,
   "metadata": {},
   "outputs": [],
   "source": [
    "grid = build_grid(coordinates)"
   ]
  },
  {
   "cell_type": "markdown",
   "metadata": {},
   "source": [
    "Assign letters to the coordinates to visualize it just like in the problem description example."
   ]
  },
  {
   "cell_type": "code",
   "execution_count": 386,
   "metadata": {},
   "outputs": [],
   "source": [
    "data = {}\n",
    "from math import ceil\n",
    "\n",
    "for i in range(len(coordinates)):\n",
    "    data[coordinates[i]] = chr(i%26 + ord('a')) * (i//26 + 1) "
   ]
  },
  {
   "cell_type": "code",
   "execution_count": 387,
   "metadata": {},
   "outputs": [],
   "source": [
    "def print_grid(grid):\n",
    "    for i in range(len(grid)):\n",
    "        for j in range(len(grid[0])):\n",
    "            if len(grid[i][j]) == 1:\n",
    "                c = data[grid[i][j][0]]\n",
    "                if i == grid[i][j][0].y and j == grid[i][j][0].x:\n",
    "                    c = c.upper()\n",
    "                print(c, end='')\n",
    "            else:\n",
    "                print('.', end='')\n",
    "        print('')"
   ]
  },
  {
   "cell_type": "code",
   "execution_count": 388,
   "metadata": {},
   "outputs": [
    {
     "name": "stdout",
     "output_type": "stream",
     "text": [
      "aaaaa.ccc\n",
      "aAaaa.ccc\n",
      "aaaddeccc\n",
      "aadddeccC\n",
      "..dDdeecc\n",
      "bb.deEeec\n",
      "bBb.eeee.\n",
      "bbb.eeeff\n",
      "bbb.eefff\n",
      "bbb.ffffF\n"
     ]
    }
   ],
   "source": [
    "print_grid(grid)"
   ]
  },
  {
   "cell_type": "markdown",
   "metadata": {},
   "source": [
    "Looking good."
   ]
  },
  {
   "cell_type": "markdown",
   "metadata": {},
   "source": [
    "## Finding the largest non-infinity area"
   ]
  },
  {
   "cell_type": "code",
   "execution_count": 391,
   "metadata": {},
   "outputs": [],
   "source": [
    "def find_non_infinity_coords(coordinates, grid):\n",
    "    non_infinity = []\n",
    "    for c in coordinates:\n",
    "        if not is_infinity(c, grid):\n",
    "            non_infinity.append(c)\n",
    "    return non_infinity"
   ]
  },
  {
   "cell_type": "code",
   "execution_count": 392,
   "metadata": {},
   "outputs": [],
   "source": [
    "def find_largest_area(coordinates, grid):\n",
    "    non_infinity_coords = find_non_infinity_coords(coordinates, grid)\n",
    "    areas = defaultdict(int)\n",
    "    for i in range(len(grid)):\n",
    "        for j in range(len(grid[0])):\n",
    "            areas[grid[i][j][0]] += 1\n",
    "    min_area = areas[non_infinity_coords[0]]\n",
    "    for c in non_infinity_coords:\n",
    "        if areas[c] > min_area:\n",
    "            min_area = areas[c]\n",
    "    return min_area\n",
    "        "
   ]
  },
  {
   "cell_type": "code",
   "execution_count": 393,
   "metadata": {},
   "outputs": [],
   "source": [
    "def is_infinity(coord, grid):\n",
    "    i, j = coord.y, coord.x\n",
    "    return grid[i][0][0] == coord or grid[i][-1][0] == coord or grid[0][j][0] == coord or grid[-1][j][0] == coord"
   ]
  },
  {
   "cell_type": "code",
   "execution_count": 394,
   "metadata": {},
   "outputs": [],
   "source": [
    "coordinates = [list(map(int, line.strip().split(', '))) for line in open('input.txt', 'r')]\n",
    "coordinates = [Coordinate(c[0], c[1]) for c in coordinates]"
   ]
  },
  {
   "cell_type": "code",
   "execution_count": 395,
   "metadata": {},
   "outputs": [],
   "source": [
    "grid = build_grid(coordinates)"
   ]
  },
  {
   "cell_type": "code",
   "execution_count": 396,
   "metadata": {},
   "outputs": [
    {
     "data": {
      "text/plain": [
       "4143"
      ]
     },
     "execution_count": 396,
     "metadata": {},
     "output_type": "execute_result"
    }
   ],
   "source": [
    "find_largest_area(coordinates, grid)"
   ]
  },
  {
   "cell_type": "markdown",
   "metadata": {},
   "source": [
    "# Part 2"
   ]
  },
  {
   "cell_type": "code",
   "execution_count": 400,
   "metadata": {},
   "outputs": [],
   "source": [
    "def build_safe_grid(coordinates, max_dist):\n",
    "    max_x = max(coordinates, key=lambda c: c.x).x + 1\n",
    "    max_y = max(coordinates, key=lambda c: c.y).y + 1\n",
    "    grid = [['.'] * max_x for _ in range(max_y)]\n",
    "    for c in coordinates:\n",
    "        grid[c.y][c.x] = c\n",
    "    for i in range(len(grid)):\n",
    "        for j in range(len(grid[0])):\n",
    "            if safe_coord(Coordinate(j, i), coordinates, max_dist):\n",
    "                grid[i][j] = '#'\n",
    "    return grid"
   ]
  },
  {
   "cell_type": "code",
   "execution_count": 401,
   "metadata": {},
   "outputs": [],
   "source": [
    "def safe_coord(coord, coordinates, max_dist):\n",
    "    distances = [manhatan_distance(coord, c) for c in coordinates]\n",
    "    return sum(distances) < max_dist"
   ]
  },
  {
   "cell_type": "markdown",
   "metadata": {},
   "source": [
    "Again, let's visualize the grid with the input example from the definition."
   ]
  },
  {
   "cell_type": "code",
   "execution_count": 402,
   "metadata": {},
   "outputs": [],
   "source": [
    "def print_safe_grid(grid, data):\n",
    "    for i in range(len(grid)):\n",
    "        for j in range(len(grid[0])):\n",
    "            if grid[i][j] not in ['.', '#']:\n",
    "                print(data[grid[i][j]], end='')\n",
    "            else:\n",
    "                print(grid[i][j], end='')\n",
    "        print('')"
   ]
  },
  {
   "cell_type": "code",
   "execution_count": 403,
   "metadata": {},
   "outputs": [],
   "source": [
    "coordinates = [list(map(int, line.strip().split(', '))) for line in open('example1.txt', 'r')]\n",
    "coordinates = [Coordinate(c[0], c[1]) for c in coordinates]"
   ]
  },
  {
   "cell_type": "code",
   "execution_count": 404,
   "metadata": {},
   "outputs": [],
   "source": [
    "safe_grid = build_safe_grid(coordinates, max_dist=32)"
   ]
  },
  {
   "cell_type": "code",
   "execution_count": 405,
   "metadata": {},
   "outputs": [],
   "source": [
    "data = {}\n",
    "from math import ceil\n",
    "\n",
    "for i in range(len(coordinates)):\n",
    "    data[coordinates[i]] = chr(i%26 + ord('a')) * (i//26 + 1) "
   ]
  },
  {
   "cell_type": "code",
   "execution_count": 406,
   "metadata": {},
   "outputs": [
    {
     "name": "stdout",
     "output_type": "stream",
     "text": [
      ".........\n",
      ".a.......\n",
      ".........\n",
      "...###..c\n",
      "..#####..\n",
      "..#####..\n",
      ".b.###...\n",
      ".........\n",
      ".........\n",
      "........f\n"
     ]
    }
   ],
   "source": [
    "print_safe_grid(safe_grid, data)"
   ]
  },
  {
   "cell_type": "code",
   "execution_count": 407,
   "metadata": {},
   "outputs": [],
   "source": [
    "coordinates = [list(map(int, line.strip().split(', '))) for line in open('input.txt', 'r')]\n",
    "coordinates = [Coordinate(c[0], c[1]) for c in coordinates]"
   ]
  },
  {
   "cell_type": "code",
   "execution_count": 408,
   "metadata": {},
   "outputs": [],
   "source": [
    "safe_grid = build_safe_grid(coordinates, max_dist=10000)"
   ]
  },
  {
   "cell_type": "code",
   "execution_count": 409,
   "metadata": {},
   "outputs": [],
   "source": [
    "def calculate_safe_area(grid):\n",
    "    count = 0\n",
    "    for i in range(len(grid)):\n",
    "        for j in range(len(grid[0])):\n",
    "            if grid[i][j] == '#':\n",
    "                count += 1\n",
    "    return count"
   ]
  },
  {
   "cell_type": "code",
   "execution_count": 410,
   "metadata": {},
   "outputs": [
    {
     "data": {
      "text/plain": [
       "35039"
      ]
     },
     "execution_count": 410,
     "metadata": {},
     "output_type": "execute_result"
    }
   ],
   "source": [
    "calculate_safe_area(safe_grid)"
   ]
  }
 ],
 "metadata": {
  "kernelspec": {
   "display_name": "Python 3",
   "language": "python",
   "name": "python3"
  },
  "language_info": {
   "codemirror_mode": {
    "name": "ipython",
    "version": 3
   },
   "file_extension": ".py",
   "mimetype": "text/x-python",
   "name": "python",
   "nbconvert_exporter": "python",
   "pygments_lexer": "ipython3",
   "version": "3.7.0"
  }
 },
 "nbformat": 4,
 "nbformat_minor": 2
}
