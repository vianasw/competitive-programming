{
 "cells": [
  {
   "cell_type": "markdown",
   "metadata": {},
   "source": [
    "Problem definition: https://adventofcode.com/2018/day/13"
   ]
  },
  {
   "cell_type": "markdown",
   "metadata": {},
   "source": [
    "# Part 1"
   ]
  },
  {
   "cell_type": "code",
   "execution_count": 5,
   "metadata": {},
   "outputs": [],
   "source": [
    "def build_grid(filename):\n",
    "    f = open(filename, 'r')\n",
    "    grid = []\n",
    "    for line in f:\n",
    "        grid.append([c for c in line.strip('\\n')])\n",
    "    return grid"
   ]
  },
  {
   "cell_type": "code",
   "execution_count": 6,
   "metadata": {},
   "outputs": [],
   "source": [
    "grid = build_grid('example1.txt')"
   ]
  },
  {
   "cell_type": "code",
   "execution_count": 7,
   "metadata": {},
   "outputs": [
    {
     "data": {
      "text/plain": [
       "[['/', '-', '>', '-', '\\\\', ' ', ' ', ' ', ' ', ' ', ' ', ' ', ' '],\n",
       " ['|', ' ', ' ', ' ', '|', ' ', ' ', '/', '-', '-', '-', '-', '\\\\'],\n",
       " ['|', ' ', '/', '-', '+', '-', '-', '+', '-', '\\\\', ' ', ' ', '|'],\n",
       " ['|', ' ', '|', ' ', '|', ' ', ' ', '|', ' ', 'v', ' ', ' ', '|'],\n",
       " ['\\\\', '-', '+', '-', '/', ' ', ' ', '\\\\', '-', '+', '-', '-', '/'],\n",
       " [' ', ' ', '\\\\', '-', '-', '-', '-', '-', '-', '/', ' ', ' ', ' ']]"
      ]
     },
     "execution_count": 7,
     "metadata": {},
     "output_type": "execute_result"
    }
   ],
   "source": [
    "grid"
   ]
  },
  {
   "cell_type": "code",
   "execution_count": 8,
   "metadata": {},
   "outputs": [
    {
     "name": "stdout",
     "output_type": "stream",
     "text": [
      "/->-\\        \n",
      "|   |  /----\\\n",
      "| /-+--+-\\  |\n",
      "| | |  | v  |\n",
      "\\-+-/  \\-+--/\n",
      "  \\------/   \n"
     ]
    }
   ],
   "source": [
    "for row in grid:\n",
    "    print(''.join(row))"
   ]
  },
  {
   "cell_type": "code",
   "execution_count": 12,
   "metadata": {},
   "outputs": [],
   "source": [
    "class Cart:\n",
    "    VECTORS = {'>': (1, 0), '<': (-1, 0), 'v': (0, 1), '^': (0, -1)}\n",
    "    TRANSICTIONS = {\n",
    "        ('>', '-'): '>', \n",
    "        ('>', '\\\\'): 'v',\n",
    "        ('>', '/'): '^',\n",
    "        ('>', '+'): ['^', '>', 'v',],\n",
    "        \n",
    "        ('<', '-'): '<', \n",
    "        ('<', '\\\\'): '^',\n",
    "        ('<', '/'): 'v',\n",
    "        ('<', '+'): ['V', '<', '^',],\n",
    "        \n",
    "        ('^', '|'): '^', \n",
    "        ('^', '\\\\'): '<',\n",
    "        ('^', '/'): '>',\n",
    "        ('^', '+'): ['<', '^', '>',],\n",
    "        \n",
    "        ('v', '|'): 'v', \n",
    "        ('v', '\\\\'): '>',\n",
    "        ('v', '/'): '<',\n",
    "        ('v', '+'): ['>', 'v', '<',],\n",
    "    }\n",
    "    \n",
    "    def __init__(self, x, y, direction):\n",
    "        self.x = x\n",
    "        self.y = y\n",
    "        self.direction = direction\n",
    "        self.turn_count = 0\n",
    "    \n",
    "    def move_next(self, grid):\n",
    "        vector = self._direction_vector()\n",
    "        next_x, next_y = self.x + vector[0], self.y + vector[1]\n",
    "        next_pos = grid[next_y][next_x]\n",
    "        if next_pos == '+':\n",
    "            next_dir = \n",
    "        \n",
    "    \n",
    "    def _direction_vector(self):\n",
    "        return Cart.VECTORS[self.direction]"
   ]
  },
  {
   "cell_type": "code",
   "execution_count": null,
   "metadata": {},
   "outputs": [],
   "source": []
  }
 ],
 "metadata": {
  "kernelspec": {
   "display_name": "Python 3",
   "language": "python",
   "name": "python3"
  },
  "language_info": {
   "codemirror_mode": {
    "name": "ipython",
    "version": 3
   },
   "file_extension": ".py",
   "mimetype": "text/x-python",
   "name": "python",
   "nbconvert_exporter": "python",
   "pygments_lexer": "ipython3",
   "version": "3.7.0"
  }
 },
 "nbformat": 4,
 "nbformat_minor": 2
}
