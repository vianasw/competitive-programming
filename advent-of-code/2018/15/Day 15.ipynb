{
 "cells": [
  {
   "cell_type": "markdown",
   "metadata": {},
   "source": [
    "Problem definition: https://adventofcode.com/2018/day/15"
   ]
  },
  {
   "cell_type": "markdown",
   "metadata": {},
   "source": [
    "# Part 1"
   ]
  },
  {
   "cell_type": "code",
   "execution_count": 1426,
   "metadata": {},
   "outputs": [],
   "source": [
    "class Creature:\n",
    "    def __init__(self, kind, x, y, ap=3, hp=200):\n",
    "        self.x = x\n",
    "        self.y = y\n",
    "        self.kind = kind\n",
    "        self.hp = hp\n",
    "        self.ap = ap\n",
    "    \n",
    "    def make_turn(self, grid, enemies):\n",
    "        if self.hp < 0:\n",
    "            return False\n",
    "        if self._adjacent_enemies(grid):            \n",
    "            enemy = self._find_enemy_to_atack(grid)            \n",
    "            self.attack(enemy)\n",
    "            return True\n",
    "        else:\n",
    "            x, y = self._find_next_move(grid, enemies)            \n",
    "            if x and y:\n",
    "                old_x, old_y = self.x, self.y\n",
    "                self.move(x, y)\n",
    "                grid[y][x] = self\n",
    "                grid[old_y][old_x] = '.'\n",
    "                if self._adjacent_enemies(grid):            \n",
    "                    enemy = self._find_enemy_to_atack(grid)            \n",
    "                    self.attack(enemy)\n",
    "                return True\n",
    "        return False\n",
    "\n",
    "    def move(self, x, y):\n",
    "        self.x, self.y = x, y\n",
    "    \n",
    "    def attack(self, enemy):\n",
    "        enemy.hp -= self.ap\n",
    "    \n",
    "    def _adjacent_enemies(self, grid): \n",
    "        x, y = self.x, self.y\n",
    "        enemies = []\n",
    "        enemy_kind = 'E' if self.kind == 'G' else 'G'\n",
    "        if x > 0 and type(grid[y][x - 1]) == Creature and grid[y][x - 1].kind == enemy_kind:\n",
    "            enemies.append(grid[y][x - 1])\n",
    "        if x < len(grid[0]) - 1 and type(grid[y][x + 1]) == Creature and grid[y][x + 1].kind == enemy_kind:\n",
    "            enemies.append(grid[y][x + 1])\n",
    "        if y > 0 and type(grid[y - 1][x]) == Creature and grid[y - 1][x].kind == enemy_kind:\n",
    "            enemies.append(grid[y - 1][x])\n",
    "        if y < len(grid) - 1 and type(grid[y + 1][x]) == Creature and grid[y + 1][x].kind == enemy_kind:\n",
    "            enemies.append(grid[y + 1][x])\n",
    "        return enemies\n",
    "    \n",
    "    \n",
    "    def _find_next_move(self, grid, enemies):\n",
    "        target_coords = []\n",
    "        for enemy in enemies:            \n",
    "            target_coords.extend(get_succ(grid, enemy.x, enemy.y))\n",
    "        target_coords = set(target_coords)\n",
    "        graph = [row[:] for row in grid]\n",
    "        succ = get_succ(graph, self.x, self.y)\n",
    "        distance = {(self.x, self.y): (0, None)}\n",
    "        step = 1\n",
    "        for s in succ:\n",
    "            graph[s[1]][s[0]] = step\n",
    "            distance[s] = (step, (self.x, self.y))\n",
    "            \n",
    "        queue = succ\n",
    "        while queue:\n",
    "            coord = queue.pop(0)\n",
    "            step = graph[coord[1]][coord[0]] + 1\n",
    "            succ = get_succ(graph, coord[0], coord[1])\n",
    "            for s in succ:\n",
    "                graph[s[1]][s[0]] = step\n",
    "                distance[s] = (step, (coord[0], coord[1]))\n",
    "\n",
    "            queue.extend(succ)\n",
    "\n",
    "        try:\n",
    "            min_dist, closest_y, closest_x = min((dist, pos[1], pos[0]) for pos, (dist, parent) in distance.items() if pos in target_coords)\n",
    "        except ValueError:\n",
    "            return None, None\n",
    "        closest = (closest_x, closest_y)\n",
    "        while distance[closest][0] > 1:\n",
    "            closest = distance[closest][1]\n",
    "        return closest\n",
    "        \n",
    "    def _find_enemy_to_atack(self, grid):\n",
    "        enemies = sorted(self._adjacent_enemies(grid), key=lambda c: (c.hp, c.y, c.x))\n",
    "        return enemies[0]\n",
    "        \n",
    "    def __str__(self):\n",
    "        return self.kind\n",
    "    \n",
    "    def __repr__(self):\n",
    "        return '{{{}: pos:({}, {}), hp: {}}}'.format(self.kind, self.x, self.y, self.hp)"
   ]
  },
  {
   "cell_type": "markdown",
   "metadata": {},
   "source": [
    "Graph utils"
   ]
  },
  {
   "cell_type": "code",
   "execution_count": 1427,
   "metadata": {},
   "outputs": [],
   "source": [
    "def get_succ(graph, x, y):\n",
    "    succ = []\n",
    "    if y > 0 and graph[y - 1][x] == '.':\n",
    "        succ.append((x, y - 1))\n",
    "    if x > 0 and graph[y][x - 1] == '.':\n",
    "        succ.append((x - 1, y))\n",
    "    if x < len(graph[0]) - 1 and graph[y][x + 1] == '.':\n",
    "        succ.append((x + 1, y))\n",
    "    if y < len(graph) - 1 and graph[y + 1][x] == '.':\n",
    "        succ.append((x, y + 1)) \n",
    "    return succ"
   ]
  },
  {
   "cell_type": "code",
   "execution_count": 1428,
   "metadata": {},
   "outputs": [],
   "source": [
    "def build_grid(filename, elf_ap=3):\n",
    "    elves = []\n",
    "    goblins = []\n",
    "    grid = []\n",
    "    f = open(filename, 'r')\n",
    "    x, y = 0, 0\n",
    "    for y, line in enumerate(f.readlines()):\n",
    "        grid.append([])\n",
    "        for x, c in enumerate(line.strip('\\n')):            \n",
    "            if c == 'G':\n",
    "                cell = Creature(c, x, y)\n",
    "                goblins.append(cell)\n",
    "            elif c == 'E':\n",
    "                cell = Creature(c, x, y, elf_ap)\n",
    "                elves.append(cell)\n",
    "            else:              \n",
    "                cell = c\n",
    "            grid[y].append(cell)\n",
    "    return grid, elves, goblins"
   ]
  },
  {
   "cell_type": "code",
   "execution_count": 1429,
   "metadata": {},
   "outputs": [],
   "source": [
    "def print_grid(grid):\n",
    "    for i in range(len(grid)):\n",
    "        for j in range(len(grid[0])):\n",
    "            print(grid[i][j], end='')\n",
    "        print('')"
   ]
  },
  {
   "cell_type": "code",
   "execution_count": 1430,
   "metadata": {},
   "outputs": [
    {
     "name": "stdout",
     "output_type": "stream",
     "text": [
      "#######\n",
      "#E..G.#\n",
      "#...#.#\n",
      "#.G.#G#\n",
      "#######\n"
     ]
    }
   ],
   "source": [
    "grid, elves, goblins = build_grid('example1.txt')\n",
    "print_grid(grid)"
   ]
  },
  {
   "cell_type": "code",
   "execution_count": 1431,
   "metadata": {},
   "outputs": [],
   "source": [
    "elf = elves[0]"
   ]
  },
  {
   "cell_type": "code",
   "execution_count": 1432,
   "metadata": {},
   "outputs": [
    {
     "name": "stdout",
     "output_type": "stream",
     "text": [
      "#######\n",
      "#.E.G.#\n",
      "#...#.#\n",
      "#.G.#G#\n",
      "#######\n"
     ]
    }
   ],
   "source": [
    "elf.make_turn(grid, goblins)\n",
    "print_grid(grid)"
   ]
  },
  {
   "cell_type": "code",
   "execution_count": 1433,
   "metadata": {},
   "outputs": [
    {
     "name": "stdout",
     "output_type": "stream",
     "text": [
      "#######\n",
      "#..EG.#\n",
      "#...#.#\n",
      "#.G.#G#\n",
      "#######\n"
     ]
    }
   ],
   "source": [
    "elf.make_turn(grid, goblins)\n",
    "print_grid(grid)"
   ]
  },
  {
   "cell_type": "code",
   "execution_count": 1434,
   "metadata": {},
   "outputs": [
    {
     "name": "stdout",
     "output_type": "stream",
     "text": [
      "#######\n",
      "#..EG.#\n",
      "#...#.#\n",
      "#.G.#G#\n",
      "#######\n"
     ]
    }
   ],
   "source": [
    "elf.make_turn(grid, goblins)\n",
    "print_grid(grid)"
   ]
  },
  {
   "cell_type": "code",
   "execution_count": 1436,
   "metadata": {},
   "outputs": [
    {
     "name": "stdout",
     "output_type": "stream",
     "text": [
      "#######\n",
      "#.E...#\n",
      "#.....#\n",
      "#...G.#\n",
      "#######\n"
     ]
    }
   ],
   "source": [
    "grid, elves, goblins = build_grid('example2.txt')\n",
    "print_grid(grid)"
   ]
  },
  {
   "cell_type": "code",
   "execution_count": 1437,
   "metadata": {},
   "outputs": [
    {
     "name": "stdout",
     "output_type": "stream",
     "text": [
      "#######\n",
      "#..E..#\n",
      "#.....#\n",
      "#...G.#\n",
      "#######\n"
     ]
    }
   ],
   "source": [
    "elf = elves[0]\n",
    "elf.make_turn(grid, goblins)\n",
    "print_grid(grid)"
   ]
  },
  {
   "cell_type": "code",
   "execution_count": 1438,
   "metadata": {},
   "outputs": [
    {
     "name": "stdout",
     "output_type": "stream",
     "text": [
      "#######\n",
      "#...E.#\n",
      "#.....#\n",
      "#...G.#\n",
      "#######\n"
     ]
    }
   ],
   "source": [
    "elf.make_turn(grid, goblins)\n",
    "print_grid(grid)"
   ]
  },
  {
   "cell_type": "code",
   "execution_count": 1439,
   "metadata": {},
   "outputs": [
    {
     "name": "stdout",
     "output_type": "stream",
     "text": [
      "#######\n",
      "#.....#\n",
      "#...E.#\n",
      "#...G.#\n",
      "#######\n"
     ]
    }
   ],
   "source": [
    "elf.make_turn(grid, goblins)\n",
    "print_grid(grid)"
   ]
  },
  {
   "cell_type": "code",
   "execution_count": 1440,
   "metadata": {},
   "outputs": [],
   "source": [
    "def main_loop(grid, elves, goblins, rounds = 0, should_print=False):\n",
    "    curr_round = 0\n",
    "    while elves and goblins:\n",
    "        queue = get_queue(elves, goblins)\n",
    "        while queue:\n",
    "            creature = queue.pop(0)\n",
    "            enemies = elves if creature.kind == 'G' else goblins\n",
    "            creature.make_turn(grid, enemies)\n",
    "            \n",
    "            for elf in elves:\n",
    "                if elf.hp <= 0:\n",
    "                    grid[elf.y][elf.x] = '.'\n",
    "            for goblin in goblins:\n",
    "                if goblin.hp <= 0:\n",
    "                    grid[goblin.y][goblin.x] = '.'\n",
    "\n",
    "            elves = [elf for elf in elves if elf.hp > 0]\n",
    "            goblins = [goblin for goblin in goblins if goblin.hp > 0]\n",
    "            if queue and (len(elves) == 0 or len(goblins) == 0):\n",
    "                return curr_round\n",
    "            \n",
    "        if should_print:\n",
    "            print_grid(grid)        \n",
    "        \n",
    "        curr_round += 1\n",
    "        if rounds > 0 and curr_round == rounds:\n",
    "            break\n",
    "    return curr_round"
   ]
  },
  {
   "cell_type": "code",
   "execution_count": 1441,
   "metadata": {},
   "outputs": [],
   "source": [
    "def get_queue(elves, goblins):\n",
    "    return sorted(elves + goblins, key=lambda c: (c.y, c.x))"
   ]
  },
  {
   "cell_type": "code",
   "execution_count": 1442,
   "metadata": {},
   "outputs": [
    {
     "name": "stdout",
     "output_type": "stream",
     "text": [
      "#########\n",
      "#G..G..G#\n",
      "#.......#\n",
      "#.......#\n",
      "#G..E..G#\n",
      "#.......#\n",
      "#.......#\n",
      "#G..G..G#\n",
      "#########\n"
     ]
    }
   ],
   "source": [
    "grid, elves, goblins = build_grid('example3.txt')\n",
    "print_grid(grid)"
   ]
  },
  {
   "cell_type": "code",
   "execution_count": 1443,
   "metadata": {},
   "outputs": [
    {
     "name": "stdout",
     "output_type": "stream",
     "text": [
      "#########\n",
      "#.G...G.#\n",
      "#...G...#\n",
      "#...E..G#\n",
      "#.G.....#\n",
      "#.......#\n",
      "#G..G..G#\n",
      "#.......#\n",
      "#########\n",
      "#########\n",
      "#..G.G..#\n",
      "#...G...#\n",
      "#.G.E.G.#\n",
      "#.......#\n",
      "#G..G..G#\n",
      "#.......#\n",
      "#.......#\n",
      "#########\n",
      "#########\n",
      "#.......#\n",
      "#..GGG..#\n",
      "#..GEG..#\n",
      "#G..G...#\n",
      "#......G#\n",
      "#.......#\n",
      "#.......#\n",
      "#########\n"
     ]
    },
    {
     "data": {
      "text/plain": [
       "3"
      ]
     },
     "execution_count": 1443,
     "metadata": {},
     "output_type": "execute_result"
    }
   ],
   "source": [
    "main_loop(grid, elves, goblins, rounds=3, should_print=True)"
   ]
  },
  {
   "cell_type": "code",
   "execution_count": 1444,
   "metadata": {},
   "outputs": [
    {
     "name": "stdout",
     "output_type": "stream",
     "text": [
      "#########\n",
      "#G..G..G#\n",
      "#.......#\n",
      "#.......#\n",
      "#G..E..G#\n",
      "#.......#\n",
      "#.......#\n",
      "#G..G..G#\n",
      "#########\n"
     ]
    }
   ],
   "source": [
    "grid, elves, goblins = build_grid('example3.txt')\n",
    "print_grid(grid)"
   ]
  },
  {
   "cell_type": "code",
   "execution_count": 1445,
   "metadata": {},
   "outputs": [],
   "source": [
    "total_rounds = main_loop(grid, elves, goblins)"
   ]
  },
  {
   "cell_type": "code",
   "execution_count": 1446,
   "metadata": {},
   "outputs": [
    {
     "name": "stdout",
     "output_type": "stream",
     "text": [
      "#########\n",
      "#.......#\n",
      "#..GGG..#\n",
      "#..G.G..#\n",
      "#G..G...#\n",
      "#......G#\n",
      "#.......#\n",
      "#.......#\n",
      "#########\n"
     ]
    }
   ],
   "source": [
    "print_grid(grid)"
   ]
  },
  {
   "cell_type": "code",
   "execution_count": 1447,
   "metadata": {},
   "outputs": [
    {
     "data": {
      "text/plain": [
       "[{E: pos:(4, 3), hp: -1}]"
      ]
     },
     "execution_count": 1447,
     "metadata": {},
     "output_type": "execute_result"
    }
   ],
   "source": [
    "elves"
   ]
  },
  {
   "cell_type": "code",
   "execution_count": 1448,
   "metadata": {},
   "outputs": [
    {
     "name": "stdout",
     "output_type": "stream",
     "text": [
      "#######\n",
      "#.G...#\n",
      "#...EG#\n",
      "#.#.#G#\n",
      "#..G#E#\n",
      "#.....#\n",
      "#######\n"
     ]
    }
   ],
   "source": [
    "grid, elves, goblins = build_grid('example4.txt')\n",
    "print_grid(grid)"
   ]
  },
  {
   "cell_type": "code",
   "execution_count": 1449,
   "metadata": {},
   "outputs": [],
   "source": [
    "total_rounds = main_loop(grid, elves, goblins)"
   ]
  },
  {
   "cell_type": "code",
   "execution_count": 1450,
   "metadata": {},
   "outputs": [
    {
     "data": {
      "text/plain": [
       "47"
      ]
     },
     "execution_count": 1450,
     "metadata": {},
     "output_type": "execute_result"
    }
   ],
   "source": [
    "total_rounds"
   ]
  },
  {
   "cell_type": "code",
   "execution_count": 1451,
   "metadata": {},
   "outputs": [
    {
     "name": "stdout",
     "output_type": "stream",
     "text": [
      "[{E: pos:(4, 2), hp: -1}, {E: pos:(5, 4), hp: -1}]\n",
      "[{G: pos:(2, 1), hp: 200}, {G: pos:(2, 2), hp: 131}, {G: pos:(5, 3), hp: 59}, {G: pos:(5, 5), hp: 200}]\n"
     ]
    }
   ],
   "source": [
    "total_rounds = main_loop(grid, elves, goblins, rounds=23, should_print=False)\n",
    "print(elves)\n",
    "print(goblins)"
   ]
  },
  {
   "cell_type": "code",
   "execution_count": 1452,
   "metadata": {},
   "outputs": [
    {
     "name": "stdout",
     "output_type": "stream",
     "text": [
      "[{E: pos:(4, 2), hp: -1}, {E: pos:(5, 4), hp: 128}]\n",
      "[{G: pos:(3, 1), hp: 200}, {G: pos:(4, 2), hp: 131}, {G: pos:(5, 3), hp: 128}, {G: pos:(3, 3), hp: 200}]\n"
     ]
    }
   ],
   "source": [
    "grid, elves, goblins = build_grid('example4.txt')\n",
    "total_rounds = main_loop(grid, elves, goblins, rounds=24, should_print=False)\n",
    "print(elves)\n",
    "print(goblins)"
   ]
  },
  {
   "cell_type": "code",
   "execution_count": 1453,
   "metadata": {},
   "outputs": [
    {
     "name": "stdout",
     "output_type": "stream",
     "text": [
      "[{E: pos:(4, 2), hp: -1}, {E: pos:(5, 4), hp: 125}]\n",
      "[{G: pos:(4, 1), hp: 200}, {G: pos:(3, 2), hp: 131}, {G: pos:(5, 3), hp: 125}, {G: pos:(3, 4), hp: 200}]\n"
     ]
    }
   ],
   "source": [
    "# round 25\n",
    "total_rounds = main_loop(grid, elves, goblins, rounds=1, should_print=False)\n",
    "print(elves)\n",
    "print(goblins)"
   ]
  },
  {
   "cell_type": "code",
   "execution_count": 1454,
   "metadata": {},
   "outputs": [
    {
     "name": "stdout",
     "output_type": "stream",
     "text": [
      "[{E: pos:(4, 2), hp: -1}, {E: pos:(5, 4), hp: 122}]\n",
      "[{G: pos:(5, 1), hp: 200}, {G: pos:(2, 2), hp: 131}, {G: pos:(5, 3), hp: 122}, {G: pos:(3, 5), hp: 200}]\n"
     ]
    }
   ],
   "source": [
    "# round 26\n",
    "total_rounds = main_loop(grid, elves, goblins, rounds=1, should_print=False)\n",
    "print(elves)\n",
    "print(goblins)"
   ]
  },
  {
   "cell_type": "code",
   "execution_count": 1455,
   "metadata": {},
   "outputs": [
    {
     "name": "stdout",
     "output_type": "stream",
     "text": [
      "#######\n",
      "#....G#\n",
      "#.G...#\n",
      "#.#.#G#\n",
      "#...#E#\n",
      "#..G..#\n",
      "#######\n"
     ]
    }
   ],
   "source": [
    "print_grid(grid)"
   ]
  },
  {
   "cell_type": "code",
   "execution_count": 1456,
   "metadata": {},
   "outputs": [
    {
     "name": "stdout",
     "output_type": "stream",
     "text": [
      "#######\n",
      "#.G...#\n",
      "#...EG#\n",
      "#.#.#G#\n",
      "#..G#E#\n",
      "#.....#\n",
      "#######\n"
     ]
    }
   ],
   "source": [
    "grid, elves, goblins = build_grid('example4.txt')\n",
    "print_grid(grid)\n",
    "total_rounds = main_loop(grid, elves, goblins)"
   ]
  },
  {
   "cell_type": "code",
   "execution_count": 1457,
   "metadata": {},
   "outputs": [
    {
     "name": "stdout",
     "output_type": "stream",
     "text": [
      "#######\n",
      "#G....#\n",
      "#.G...#\n",
      "#.#.#G#\n",
      "#...#.#\n",
      "#....G#\n",
      "#######\n"
     ]
    }
   ],
   "source": [
    "print_grid(grid)"
   ]
  },
  {
   "cell_type": "code",
   "execution_count": 1458,
   "metadata": {},
   "outputs": [
    {
     "data": {
      "text/plain": [
       "47"
      ]
     },
     "execution_count": 1458,
     "metadata": {},
     "output_type": "execute_result"
    }
   ],
   "source": [
    "total_rounds"
   ]
  },
  {
   "cell_type": "code",
   "execution_count": 1459,
   "metadata": {},
   "outputs": [
    {
     "data": {
      "text/plain": [
       "[{G: pos:(1, 1), hp: 200},\n",
       " {G: pos:(2, 2), hp: 131},\n",
       " {G: pos:(5, 3), hp: 59},\n",
       " {G: pos:(5, 5), hp: 200}]"
      ]
     },
     "execution_count": 1459,
     "metadata": {},
     "output_type": "execute_result"
    }
   ],
   "source": [
    "goblins"
   ]
  },
  {
   "cell_type": "code",
   "execution_count": 1460,
   "metadata": {},
   "outputs": [
    {
     "data": {
      "text/plain": [
       "27730"
      ]
     },
     "execution_count": 1460,
     "metadata": {},
     "output_type": "execute_result"
    }
   ],
   "source": [
    "sum([g.hp for g in goblins if g.hp > 0]) * (total_rounds)"
   ]
  },
  {
   "cell_type": "code",
   "execution_count": 1461,
   "metadata": {},
   "outputs": [
    {
     "name": "stdout",
     "output_type": "stream",
     "text": [
      "#######\n",
      "#G..#E#\n",
      "#E#E.E#\n",
      "#G.##.#\n",
      "#...#E#\n",
      "#...E.#\n",
      "#######\n"
     ]
    }
   ],
   "source": [
    "grid, elves, goblins = build_grid('example5.txt')\n",
    "print_grid(grid)\n",
    "total_rounds = main_loop(grid, elves, goblins)"
   ]
  },
  {
   "cell_type": "code",
   "execution_count": 1462,
   "metadata": {},
   "outputs": [
    {
     "name": "stdout",
     "output_type": "stream",
     "text": [
      "#######\n",
      "#...#E#\n",
      "#E#...#\n",
      "#.E##.#\n",
      "#E..#E#\n",
      "#.....#\n",
      "#######\n"
     ]
    }
   ],
   "source": [
    "print_grid(grid)"
   ]
  },
  {
   "cell_type": "code",
   "execution_count": 1463,
   "metadata": {},
   "outputs": [
    {
     "data": {
      "text/plain": [
       "37"
      ]
     },
     "execution_count": 1463,
     "metadata": {},
     "output_type": "execute_result"
    }
   ],
   "source": [
    "total_rounds"
   ]
  },
  {
   "cell_type": "code",
   "execution_count": 1464,
   "metadata": {},
   "outputs": [
    {
     "data": {
      "text/plain": [
       "36334"
      ]
     },
     "execution_count": 1464,
     "metadata": {},
     "output_type": "execute_result"
    }
   ],
   "source": [
    "sum([g.hp for g in elves if g.hp > 0] + []) * (total_rounds)"
   ]
  },
  {
   "cell_type": "code",
   "execution_count": 1465,
   "metadata": {},
   "outputs": [
    {
     "data": {
      "text/plain": [
       "[{E: pos:(5, 1), hp: 200},\n",
       " {E: pos:(1, 2), hp: -1},\n",
       " {E: pos:(1, 2), hp: 197},\n",
       " {E: pos:(5, 4), hp: 200},\n",
       " {E: pos:(1, 4), hp: 200},\n",
       " {E: pos:(2, 3), hp: 185}]"
      ]
     },
     "execution_count": 1465,
     "metadata": {},
     "output_type": "execute_result"
    }
   ],
   "source": [
    "elves"
   ]
  },
  {
   "cell_type": "code",
   "execution_count": 1466,
   "metadata": {},
   "outputs": [
    {
     "name": "stdout",
     "output_type": "stream",
     "text": [
      "#######\n",
      "#G..#E#\n",
      "#E#E.E#\n",
      "#G.##.#\n",
      "#...#E#\n",
      "#...E.#\n",
      "#######\n",
      "#######\n",
      "#G.E#E#\n",
      "#E#..E#\n",
      "#G.##.#\n",
      "#...#E#\n",
      "#..E..#\n",
      "#######\n",
      "#######\n",
      "#GE.#E#\n",
      "#E#..E#\n",
      "#G.##.#\n",
      "#..E#E#\n",
      "#.....#\n",
      "#######\n",
      "#######\n",
      "#GE.#E#\n",
      "#E#..E#\n",
      "#G.##.#\n",
      "#.E.#.#\n",
      "#....E#\n",
      "#######\n",
      "#######\n",
      "#GE.#E#\n",
      "#E#..E#\n",
      "#GE##.#\n",
      "#...#.#\n",
      "#...E.#\n",
      "#######\n",
      "#######\n",
      "#GE.#E#\n",
      "#E#..E#\n",
      "#GE##.#\n",
      "#...#.#\n",
      "#..E..#\n",
      "#######\n",
      "#######\n",
      "#GE.#E#\n",
      "#E#..E#\n",
      "#GE##.#\n",
      "#..E#.#\n",
      "#.....#\n",
      "#######\n",
      "#######\n",
      "#GE.#E#\n",
      "#E#...#\n",
      "#GE##E#\n",
      "#.E.#.#\n",
      "#.....#\n",
      "#######\n",
      "#######\n",
      "#GE.#E#\n",
      "#E#...#\n",
      "#GE##.#\n",
      "#E..#E#\n",
      "#.....#\n",
      "#######\n",
      "#######\n",
      "#GE.#E#\n",
      "#E#...#\n",
      "#GE##.#\n",
      "#E..#E#\n",
      "#.....#\n",
      "#######\n",
      "#######\n",
      "#GE.#E#\n",
      "#E#...#\n",
      "#GE##.#\n",
      "#E..#E#\n",
      "#.....#\n",
      "#######\n",
      "#######\n",
      "#GE.#E#\n",
      "#E#...#\n",
      "#GE##.#\n",
      "#E..#E#\n",
      "#.....#\n",
      "#######\n",
      "#######\n",
      "#GE.#E#\n",
      "#E#...#\n",
      "#GE##.#\n",
      "#E..#E#\n",
      "#.....#\n",
      "#######\n",
      "#######\n",
      "#GE.#E#\n",
      "#E#...#\n",
      "#GE##.#\n",
      "#E..#E#\n",
      "#.....#\n",
      "#######\n",
      "#######\n",
      "#GE.#E#\n",
      "#E#...#\n",
      "#GE##.#\n",
      "#E..#E#\n",
      "#.....#\n",
      "#######\n",
      "#######\n",
      "#GE.#E#\n",
      "#E#...#\n",
      "#GE##.#\n",
      "#E..#E#\n",
      "#.....#\n",
      "#######\n",
      "#######\n",
      "#GE.#E#\n",
      "#E#...#\n",
      "#GE##.#\n",
      "#E..#E#\n",
      "#.....#\n",
      "#######\n",
      "#######\n",
      "#GE.#E#\n",
      "#E#...#\n",
      "#GE##.#\n",
      "#E..#E#\n",
      "#.....#\n",
      "#######\n",
      "#######\n",
      "#GE.#E#\n",
      "#E#...#\n",
      "#GE##.#\n",
      "#E..#E#\n",
      "#.....#\n",
      "#######\n",
      "#######\n",
      "#GE.#E#\n",
      "#E#...#\n",
      "#GE##.#\n",
      "#E..#E#\n",
      "#.....#\n",
      "#######\n",
      "#######\n",
      "#GE.#E#\n",
      "#E#...#\n",
      "#GE##.#\n",
      "#E..#E#\n",
      "#.....#\n",
      "#######\n",
      "#######\n",
      "#GE.#E#\n",
      "#E#...#\n",
      "#GE##.#\n",
      "#E..#E#\n",
      "#.....#\n",
      "#######\n",
      "#######\n",
      "#GE.#E#\n",
      "#E#...#\n",
      "#GE##.#\n",
      "#E..#E#\n",
      "#.....#\n",
      "#######\n",
      "#######\n",
      "#GE.#E#\n",
      "#E#...#\n",
      "#GE##.#\n",
      "#E..#E#\n",
      "#.....#\n",
      "#######\n",
      "#######\n",
      "#GE.#E#\n",
      "#E#...#\n",
      "#GE##.#\n",
      "#E..#E#\n",
      "#.....#\n",
      "#######\n",
      "#######\n",
      "#GE.#E#\n",
      "#E#...#\n",
      "#GE##.#\n",
      "#E..#E#\n",
      "#.....#\n",
      "#######\n",
      "#######\n",
      "#GE.#E#\n",
      "#E#...#\n",
      "#GE##.#\n",
      "#E..#E#\n",
      "#.....#\n",
      "#######\n",
      "#######\n",
      "#GE.#E#\n",
      "#E#...#\n",
      "#GE##.#\n",
      "#E..#E#\n",
      "#.....#\n",
      "#######\n",
      "#######\n",
      "#GE.#E#\n",
      "#E#...#\n",
      "#GE##.#\n",
      "#E..#E#\n",
      "#.....#\n",
      "#######\n",
      "#######\n",
      "#GE.#E#\n",
      "#E#...#\n",
      "#GE##.#\n",
      "#E..#E#\n",
      "#.....#\n",
      "#######\n",
      "#######\n",
      "#GE.#E#\n",
      "#E#...#\n",
      "#GE##.#\n",
      "#E..#E#\n",
      "#.....#\n",
      "#######\n",
      "#######\n",
      "#GE.#E#\n",
      "#E#...#\n",
      "#GE##.#\n",
      "#E..#E#\n",
      "#.....#\n",
      "#######\n",
      "#######\n",
      "#GE.#E#\n",
      "#E#...#\n",
      "#GE##.#\n",
      "#E..#E#\n",
      "#.....#\n",
      "#######\n",
      "#######\n",
      "#GE.#E#\n",
      "#E#...#\n",
      "#GE##.#\n",
      "#E..#E#\n",
      "#.....#\n",
      "#######\n",
      "#######\n",
      "#GE.#E#\n",
      "#.#...#\n",
      "#GE##.#\n",
      "#E..#E#\n",
      "#.....#\n",
      "#######\n",
      "#######\n",
      "#.E.#E#\n",
      "#.#...#\n",
      "#GE##.#\n",
      "#E..#E#\n",
      "#.....#\n",
      "#######\n",
      "#######\n",
      "#E..#E#\n",
      "#.#...#\n",
      "#GE##.#\n",
      "#E..#E#\n",
      "#.....#\n",
      "#######\n",
      "#######\n",
      "#...#E#\n",
      "#E#...#\n",
      "#GE##.#\n",
      "#E..#E#\n",
      "#.....#\n",
      "#######\n"
     ]
    }
   ],
   "source": [
    "grid, elves, goblins = build_grid('example5.txt')\n",
    "print_grid(grid)\n",
    "total_rounds = main_loop(grid, elves, goblins, rounds=37, should_print=True)"
   ]
  },
  {
   "cell_type": "code",
   "execution_count": 1467,
   "metadata": {},
   "outputs": [
    {
     "data": {
      "text/plain": [
       "[{G: pos:(1, 1), hp: -1}, {G: pos:(1, 3), hp: 5}]"
      ]
     },
     "execution_count": 1467,
     "metadata": {},
     "output_type": "execute_result"
    }
   ],
   "source": [
    "goblins"
   ]
  },
  {
   "cell_type": "code",
   "execution_count": 1468,
   "metadata": {},
   "outputs": [
    {
     "data": {
      "text/plain": [
       "36334"
      ]
     },
     "execution_count": 1468,
     "metadata": {},
     "output_type": "execute_result"
    }
   ],
   "source": [
    "sum([200, 197, 200, 200, 185]) * 37"
   ]
  },
  {
   "cell_type": "code",
   "execution_count": 1469,
   "metadata": {},
   "outputs": [
    {
     "name": "stdout",
     "output_type": "stream",
     "text": [
      "#######\n",
      "#E..EG#\n",
      "#.#G.E#\n",
      "#E.##E#\n",
      "#G..#.#\n",
      "#..E#.#\n",
      "#######\n"
     ]
    }
   ],
   "source": [
    "grid, elves, goblins = build_grid('example6.txt')\n",
    "print_grid(grid)\n",
    "total_rounds = main_loop(grid, elves, goblins)"
   ]
  },
  {
   "cell_type": "code",
   "execution_count": 1470,
   "metadata": {},
   "outputs": [
    {
     "data": {
      "text/plain": [
       "46"
      ]
     },
     "execution_count": 1470,
     "metadata": {},
     "output_type": "execute_result"
    }
   ],
   "source": [
    "total_rounds"
   ]
  },
  {
   "cell_type": "code",
   "execution_count": 1471,
   "metadata": {},
   "outputs": [
    {
     "data": {
      "text/plain": [
       "39514"
      ]
     },
     "execution_count": 1471,
     "metadata": {},
     "output_type": "execute_result"
    }
   ],
   "source": [
    "sum([c.hp for c in elves if c.hp > 0]) * total_rounds"
   ]
  },
  {
   "cell_type": "code",
   "execution_count": 1472,
   "metadata": {},
   "outputs": [
    {
     "name": "stdout",
     "output_type": "stream",
     "text": [
      "################################\n",
      "#########....G#######.##########\n",
      "##########.G########...#########\n",
      "###########.########.#.#########\n",
      "###########.#..G######..######.#\n",
      "##########..#...###......G..##.#\n",
      "##.#######......#..G....E#.....#\n",
      "##.##..######...........E..E####\n",
      "##.##...###................#####\n",
      "#.....G.G...........G.....######\n",
      "#...G....G...................###\n",
      "#G.G.............EG..........###\n",
      "#..G..........#####.........####\n",
      "##.G.......G.#######.........###\n",
      "#####....G..#########..G.E....##\n",
      "####....#...#########.........##\n",
      "#######.##..#########...#.....##\n",
      "#########...#########.....######\n",
      "##########..#########G....######\n",
      "##########...#######..E...######\n",
      "##########....#####...#EE.######\n",
      "#########.........G.......######\n",
      "#########............###########\n",
      "############..........##########\n",
      "############.......#.###########\n",
      "###########...........##########\n",
      "###########........#.###########\n",
      "##########E.#......#############\n",
      "#########...##....E.############\n",
      "#########.######....############\n",
      "################....############\n",
      "################################\n"
     ]
    }
   ],
   "source": [
    "grid, elves, goblins = build_grid('input.txt')\n",
    "print_grid(grid)\n",
    "total_rounds = main_loop(grid, elves, goblins)"
   ]
  },
  {
   "cell_type": "code",
   "execution_count": 1473,
   "metadata": {},
   "outputs": [
    {
     "data": {
      "text/plain": [
       "79"
      ]
     },
     "execution_count": 1473,
     "metadata": {},
     "output_type": "execute_result"
    }
   ],
   "source": [
    "total_rounds"
   ]
  },
  {
   "cell_type": "code",
   "execution_count": 1474,
   "metadata": {},
   "outputs": [
    {
     "data": {
      "text/plain": [
       "207059"
      ]
     },
     "execution_count": 1474,
     "metadata": {},
     "output_type": "execute_result"
    }
   ],
   "source": [
    "sum([g.hp for g in goblins if g.hp > 0]) * total_rounds"
   ]
  },
  {
   "cell_type": "code",
   "execution_count": 1475,
   "metadata": {},
   "outputs": [
    {
     "name": "stdout",
     "output_type": "stream",
     "text": [
      "#########\n",
      "#G......#\n",
      "#.E.#...#\n",
      "#..##..G#\n",
      "#...##..#\n",
      "#...#...#\n",
      "#.G...G.#\n",
      "#.....G.#\n",
      "#########\n"
     ]
    }
   ],
   "source": [
    "grid, elves, goblins = build_grid('example7.txt')\n",
    "print_grid(grid)\n",
    "total_rounds = main_loop(grid, elves, goblins)"
   ]
  },
  {
   "cell_type": "code",
   "execution_count": 1476,
   "metadata": {},
   "outputs": [
    {
     "data": {
      "text/plain": [
       "20"
      ]
     },
     "execution_count": 1476,
     "metadata": {},
     "output_type": "execute_result"
    }
   ],
   "source": [
    "total_rounds"
   ]
  },
  {
   "cell_type": "markdown",
   "metadata": {},
   "source": [
    "# Part 2"
   ]
  },
  {
   "cell_type": "code",
   "execution_count": 1423,
   "metadata": {},
   "outputs": [],
   "source": [
    "def find_ap_withouth_single_death(filename):\n",
    "    elves_won = False\n",
    "    ap = 4\n",
    "    grid, elves, goblins = build_grid(filename, ap)\n",
    "    while not elves_won:        \n",
    "        try:\n",
    "            total_rounds = main_loop2(grid, elves, goblins)\n",
    "            elves_won = True\n",
    "        except ElfDied:        \n",
    "            ap += 1\n",
    "            grid, elves, goblins = build_grid(filename, ap)\n",
    "    print_grid(grid)\n",
    "    print('ap: ', ap)\n",
    "    print('total rounds: ', total_rounds)\n",
    "    print('elves: ', elves)\n",
    "    return total_rounds * sum([e.hp for e in elves])\n",
    "    \n",
    "def main_loop2(grid, elves, goblins, rounds = 0, should_print=False):\n",
    "    curr_round = 0\n",
    "    while elves and goblins:\n",
    "        queue = get_queue(elves, goblins)\n",
    "        while queue:\n",
    "            creature = queue.pop(0)\n",
    "            enemies = elves if creature.kind == 'G' else goblins\n",
    "            creature.make_turn(grid, enemies)\n",
    "            \n",
    "            for elf in elves:\n",
    "                if elf.hp <= 0:\n",
    "                    raise ElfDied\n",
    "            for goblin in goblins:\n",
    "                if goblin.hp <= 0:\n",
    "                    grid[goblin.y][goblin.x] = '.'\n",
    "\n",
    "            elves = [elf for elf in elves if elf.hp > 0]\n",
    "            goblins = [goblin for goblin in goblins if goblin.hp > 0]\n",
    "            if queue and (len(elves) == 0 or len(goblins) == 0):\n",
    "                return curr_round\n",
    "            \n",
    "        if should_print:\n",
    "            print_grid(grid)        \n",
    "        \n",
    "        curr_round += 1\n",
    "        if rounds > 0 and curr_round == rounds:\n",
    "            break\n",
    "    return curr_round\n",
    "\n",
    "class ElfDied(Exception):\n",
    "    pass"
   ]
  },
  {
   "cell_type": "code",
   "execution_count": 1477,
   "metadata": {},
   "outputs": [
    {
     "name": "stdout",
     "output_type": "stream",
     "text": [
      "#######\n",
      "#..E..#\n",
      "#...E.#\n",
      "#.#.#.#\n",
      "#...#.#\n",
      "#.....#\n",
      "#######\n",
      "ap:  15\n",
      "total rounds:  29\n",
      "elves:  [{E: pos:(4, 2), hp: 14}, {E: pos:(3, 1), hp: 158}]\n"
     ]
    },
    {
     "data": {
      "text/plain": [
       "4988"
      ]
     },
     "execution_count": 1477,
     "metadata": {},
     "output_type": "execute_result"
    }
   ],
   "source": [
    "find_ap_withouth_single_death('example8.txt')"
   ]
  },
  {
   "cell_type": "code",
   "execution_count": 1478,
   "metadata": {},
   "outputs": [
    {
     "name": "stdout",
     "output_type": "stream",
     "text": [
      "#######\n",
      "#.E.E.#\n",
      "#.#E..#\n",
      "#E.##E#\n",
      "#.E.#.#\n",
      "#...#.#\n",
      "#######\n",
      "ap:  4\n",
      "total rounds:  33\n",
      "elves:  [{E: pos:(2, 1), hp: 200}, {E: pos:(4, 1), hp: 23}, {E: pos:(3, 2), hp: 200}, {E: pos:(1, 3), hp: 122}, {E: pos:(5, 3), hp: 200}, {E: pos:(2, 4), hp: 200}]\n"
     ]
    },
    {
     "data": {
      "text/plain": [
       "31185"
      ]
     },
     "execution_count": 1478,
     "metadata": {},
     "output_type": "execute_result"
    }
   ],
   "source": [
    "find_ap_withouth_single_death('example9.txt')"
   ]
  },
  {
   "cell_type": "code",
   "execution_count": 1479,
   "metadata": {},
   "outputs": [
    {
     "name": "stdout",
     "output_type": "stream",
     "text": [
      "#######\n",
      "#.E.#.#\n",
      "#.#E..#\n",
      "#..#..#\n",
      "#...#.#\n",
      "#.....#\n",
      "#######\n",
      "ap:  15\n",
      "total rounds:  37\n",
      "elves:  [{E: pos:(2, 1), hp: 8}, {E: pos:(3, 2), hp: 86}]\n"
     ]
    },
    {
     "data": {
      "text/plain": [
       "3478"
      ]
     },
     "execution_count": 1479,
     "metadata": {},
     "output_type": "execute_result"
    }
   ],
   "source": [
    "find_ap_withouth_single_death('example10.txt')"
   ]
  },
  {
   "cell_type": "code",
   "execution_count": 1425,
   "metadata": {},
   "outputs": [
    {
     "name": "stdout",
     "output_type": "stream",
     "text": [
      "################################\n",
      "#########.....#######.##########\n",
      "##########..########...#########\n",
      "###########.########.#.#########\n",
      "###########.#...######..######.#\n",
      "##########..#...###.........##.#\n",
      "##.#######......#........#.....#\n",
      "##.##..######....E..........####\n",
      "##.##...###.....E.EE.......#####\n",
      "#..............E.E........######\n",
      "#...............E............###\n",
      "#.........EE........E........###\n",
      "#.............#####.........####\n",
      "##...........#######.........###\n",
      "#####.......#########.........##\n",
      "####....#...#########.........##\n",
      "#######.##..#########...#.....##\n",
      "#########...#########.....######\n",
      "##########..#########.....######\n",
      "##########...#######......######\n",
      "##########....#####...#...######\n",
      "#########.................######\n",
      "#########............###########\n",
      "############..........##########\n",
      "############.......#.###########\n",
      "###########...........##########\n",
      "###########........#.###########\n",
      "##########..#......#############\n",
      "#########...##......############\n",
      "#########.######....############\n",
      "################....############\n",
      "################################\n",
      "ap:  23\n",
      "total rounds:  32\n",
      "elves:  [{E: pos:(19, 8), hp: 164}, {E: pos:(18, 8), hp: 113}, {E: pos:(17, 7), hp: 185}, {E: pos:(15, 9), hp: 35}, {E: pos:(16, 10), hp: 173}, {E: pos:(17, 9), hp: 125}, {E: pos:(16, 8), hp: 194}, {E: pos:(20, 11), hp: 200}, {E: pos:(11, 11), hp: 146}, {E: pos:(10, 11), hp: 200}]\n"
     ]
    },
    {
     "data": {
      "text/plain": [
       "49120"
      ]
     },
     "execution_count": 1425,
     "metadata": {},
     "output_type": "execute_result"
    }
   ],
   "source": [
    "find_ap_withouth_single_death('input.txt')"
   ]
  }
 ],
 "metadata": {
  "kernelspec": {
   "display_name": "Python 3",
   "language": "python",
   "name": "python3"
  },
  "language_info": {
   "codemirror_mode": {
    "name": "ipython",
    "version": 3
   },
   "file_extension": ".py",
   "mimetype": "text/x-python",
   "name": "python",
   "nbconvert_exporter": "python",
   "pygments_lexer": "ipython3",
   "version": "3.7.0"
  }
 },
 "nbformat": 4,
 "nbformat_minor": 2
}
