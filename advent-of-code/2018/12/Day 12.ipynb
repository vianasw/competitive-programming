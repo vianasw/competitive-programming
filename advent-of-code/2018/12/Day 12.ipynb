{
 "cells": [
  {
   "cell_type": "markdown",
   "metadata": {},
   "source": [
    "Problem definition: https://adventofcode.com/2018/day/12"
   ]
  },
  {
   "cell_type": "markdown",
   "metadata": {},
   "source": [
    "# Part 1"
   ]
  },
  {
   "cell_type": "code",
   "execution_count": 186,
   "metadata": {},
   "outputs": [],
   "source": [
    "class Pots:\n",
    "    PADDING_SIZE = 4\n",
    "    def __init__(self, pots_row, notes):\n",
    "        self.pots_row = pots_row\n",
    "        self.notes = notes\n",
    "        self.center = 0\n",
    "        \n",
    "        self._add_padding_if_needed()\n",
    "    \n",
    "    def _add_padding_if_needed(self):\n",
    "        if '#' in self.pots_row[:5]:\n",
    "            self._add_padding_left()\n",
    "        if '#' in self.pots_row[-4:]:\n",
    "            self._add_padding_right()\n",
    "    \n",
    "    def _add_padding_left(self):\n",
    "        padding_left = ['.'] * Pots.PADDING_SIZE\n",
    "        self.pots_row = padding_left + self.pots_row\n",
    "        self.center += Pots.PADDING_SIZE\n",
    "        \n",
    "    def _add_padding_right(self):\n",
    "        padding_right = ['.'] * Pots.PADDING_SIZE\n",
    "        self.pots_row = self.pots_row + padding_right\n",
    "        \n",
    "    def simulate_next_gen(self):\n",
    "        next_gen = self.pots_row[:]\n",
    "        for i in range(2, len(self.pots_row) - 2):\n",
    "            block = self.pots_row[i - 2: i + 3]\n",
    "            block_str = ''.join(block)\n",
    "            if block_str in self.notes:\n",
    "                next_gen[i] = self.notes[block_str]\n",
    "                #next_gen[i - 2: i + 3] = ['.', '.'] + [self.notes[block_str]] + ['.', '.']\n",
    "            else:\n",
    "                next_gen[i] = '.'\n",
    "#                next_gen[i - 2: i + 3] = ['.', '.','.', '.', '.']\n",
    "        self.pots_row = next_gen\n",
    "        self._add_padding_if_needed()\n",
    "    \n",
    "    def sum_pot_numbers(self):\n",
    "        total = 0\n",
    "        for i in range(len(self.pots_row)):\n",
    "            if self.pots_row[i] == '#':\n",
    "                total += (i - self.center)\n",
    "        return total"
   ]
  },
  {
   "cell_type": "code",
   "execution_count": 187,
   "metadata": {},
   "outputs": [],
   "source": [
    "def parse_file(filename):\n",
    "    f = open(filename, 'r')\n",
    "    line = f.readline()\n",
    "    pots_row = [c for c in line[len('initial state: '):].strip()]\n",
    "    f.readline()\n",
    "    notes = {}\n",
    "    for line in f.readlines():\n",
    "        k, v = line.strip().split(' => ')\n",
    "        notes[k] = v\n",
    "    return pots_row, notes"
   ]
  },
  {
   "cell_type": "code",
   "execution_count": 188,
   "metadata": {},
   "outputs": [
    {
     "name": "stdout",
     "output_type": "stream",
     "text": [
      "....##.#############........##.##.####..#.#..#.##...###.##......#.#..#####....##..#####..#.#.##.#.##....\n",
      "4110\n"
     ]
    }
   ],
   "source": [
    "pots_row, notes = parse_file('input.txt')\n",
    "pots = Pots(pots_row, notes)\n",
    "print(''.join(pots.pots_row))\n",
    "for i in range(20):\n",
    "    pots.simulate_next_gen()\n",
    "print(pots.sum_pot_numbers())"
   ]
  },
  {
   "cell_type": "code",
   "execution_count": 189,
   "metadata": {},
   "outputs": [
    {
     "name": "stdout",
     "output_type": "stream",
     "text": [
      "....#..#.#..##......###...###....\n",
      "........#...#....#.....#..#..#..#....\n",
      "........##..##...##....#..#..#..##.......\n",
      ".......#.#...#..#.#....#..#..#...#.......\n",
      "........#.#..#...#.#...#..#..##..##......\n",
      ".........#...##...#.#..#..#...#...#......\n",
      ".........##.#.#....#...#..##..##..##.....\n",
      "........#..###.#...##..#...#...#...#.....\n",
      "........#....##.#.#.#..##..##..##..##....\n",
      "........##..#..#####....#...#...#...#....\n",
      ".......#.#..#...#.##....##..##..##..##.......\n",
      "........#...##...#.#...#.#...#...#...#.......\n",
      "........##.#.#....#.#...#.#..##..##..##......\n",
      ".......#..###.#....#.#...#....#...#...#......\n",
      ".......#....##.#....#.#..##...##..##..##.....\n",
      ".......##..#..#.#....#....#..#.#...#...#.....\n",
      "......#.#..#...#.#...##...#...#.#..##..##....\n",
      ".......#...##...#.#.#.#...##...#....#...#....\n",
      ".......##.#.#....#####.#.#.#...##...##..##.......\n",
      "......#..###.#..#.#.#######.#.#.#..#.#...#.......\n",
      "......#....##....#####...#######....#.#..##......\n",
      "325\n"
     ]
    }
   ],
   "source": [
    "pots_row, notes = parse_file('example1.txt')\n",
    "pots = Pots(pots_row, notes)\n",
    "print(''.join(pots.pots_row))\n",
    "for i in range(20):\n",
    "    pots.simulate_next_gen()\n",
    "    print(''.join(pots.pots_row))\n",
    "print(pots.sum_pot_numbers())"
   ]
  },
  {
   "cell_type": "code",
   "execution_count": 190,
   "metadata": {},
   "outputs": [
    {
     "data": {
      "text/plain": [
       "325"
      ]
     },
     "execution_count": 190,
     "metadata": {},
     "output_type": "execute_result"
    }
   ],
   "source": [
    "pots.sum_pot_numbers()"
   ]
  },
  {
   "cell_type": "markdown",
   "metadata": {},
   "source": [
    "# Part 2"
   ]
  },
  {
   "cell_type": "code",
   "execution_count": 241,
   "metadata": {},
   "outputs": [],
   "source": [
    "def find_stable_generation(pots, max_iterations):\n",
    "    sums = [0]\n",
    "    diffs = [0]\n",
    "    for i in range(max_iterations):\n",
    "        pots.simulate_next_gen()\n",
    "        sums.append(pots.sum_pot_numbers())\n",
    "        stable = False\n",
    "        diffs.append(sums[-1] - sums[-2])\n",
    "        if diffs[-1] == diffs[-2]:\n",
    "            return i, diffs[-1]\n",
    "    return -1"
   ]
  },
  {
   "cell_type": "code",
   "execution_count": 242,
   "metadata": {},
   "outputs": [],
   "source": [
    "pots_row, notes = parse_file('input.txt')\n",
    "pots = Pots(pots_row, notes)\n",
    "s = find_stable_generation(pots, 1000)"
   ]
  },
  {
   "cell_type": "code",
   "execution_count": 243,
   "metadata": {},
   "outputs": [
    {
     "data": {
      "text/plain": [
       "(154, 53)"
      ]
     },
     "execution_count": 243,
     "metadata": {},
     "output_type": "execute_result"
    }
   ],
   "source": [
    "s"
   ]
  },
  {
   "cell_type": "code",
   "execution_count": 246,
   "metadata": {},
   "outputs": [
    {
     "name": "stdout",
     "output_type": "stream",
     "text": [
      "8628\n"
     ]
    }
   ],
   "source": [
    "pots_row, notes = parse_file('input.txt')\n",
    "pots = Pots(pots_row, notes)\n",
    "for i in range(154):\n",
    "    pots.simulate_next_gen()\n",
    "print(pots.sum_pot_numbers())"
   ]
  },
  {
   "cell_type": "code",
   "execution_count": 247,
   "metadata": {},
   "outputs": [
    {
     "data": {
      "text/plain": [
       "2650000000466"
      ]
     },
     "execution_count": 247,
     "metadata": {},
     "output_type": "execute_result"
    }
   ],
   "source": [
    "8628 + (50000000000 - 154) * 53"
   ]
  },
  {
   "cell_type": "code",
   "execution_count": null,
   "metadata": {},
   "outputs": [],
   "source": []
  }
 ],
 "metadata": {
  "kernelspec": {
   "display_name": "Python 3",
   "language": "python",
   "name": "python3"
  },
  "language_info": {
   "codemirror_mode": {
    "name": "ipython",
    "version": 3
   },
   "file_extension": ".py",
   "mimetype": "text/x-python",
   "name": "python",
   "nbconvert_exporter": "python",
   "pygments_lexer": "ipython3",
   "version": "3.7.0"
  }
 },
 "nbformat": 4,
 "nbformat_minor": 2
}
