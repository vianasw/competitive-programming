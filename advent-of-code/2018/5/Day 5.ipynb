{
 "cells": [
  {
   "cell_type": "markdown",
   "metadata": {},
   "source": [
    "Problem definition: https://adventofcode.com/2018/day/5"
   ]
  },
  {
   "cell_type": "markdown",
   "metadata": {},
   "source": [
    "# Part 1"
   ]
  },
  {
   "cell_type": "code",
   "execution_count": 34,
   "metadata": {},
   "outputs": [],
   "source": [
    "def reacts(p1, p2):\n",
    "    return (p1 == p2.lower() and p2.lower() != p2) or (p1.lower() == p2 and p1.lower() != p1)"
   ]
  },
  {
   "cell_type": "code",
   "execution_count": 66,
   "metadata": {},
   "outputs": [],
   "source": [
    "\n",
    "def collapse(polymer):\n",
    "    stack = []\n",
    "    stack.append(polymer[0])\n",
    "    for p in polymer[1:]:\n",
    "        if len(stack) > 0 and reacts(stack[-1], p):\n",
    "            stack.pop()\n",
    "        else:\n",
    "            stack.append(p)\n",
    "    return ''.join(stack)"
   ]
  },
  {
   "cell_type": "code",
   "execution_count": 67,
   "metadata": {},
   "outputs": [],
   "source": [
    "f = open('input.txt', 'r')\n",
    "polymer = collapse(f.readline().strip())"
   ]
  },
  {
   "cell_type": "code",
   "execution_count": 68,
   "metadata": {},
   "outputs": [
    {
     "data": {
      "text/plain": [
       "11298"
      ]
     },
     "execution_count": 68,
     "metadata": {},
     "output_type": "execute_result"
    }
   ],
   "source": [
    "len(polymer)"
   ]
  },
  {
   "cell_type": "code",
   "execution_count": 69,
   "metadata": {},
   "outputs": [
    {
     "data": {
      "text/plain": [
       "'AB'"
      ]
     },
     "execution_count": 69,
     "metadata": {},
     "output_type": "execute_result"
    }
   ],
   "source": [
    "collapse('aBbAAB')"
   ]
  },
  {
   "cell_type": "markdown",
   "metadata": {},
   "source": [
    "# Part 2"
   ]
  },
  {
   "cell_type": "code",
   "execution_count": 60,
   "metadata": {},
   "outputs": [],
   "source": [
    "def remove_unit(unit, polymer):\n",
    "    new_polymer = []\n",
    "    for p in polymer:\n",
    "        if p.lower() != unit.lower():\n",
    "            new_polymer.append(p)\n",
    "    return ''.join(new_polymer)"
   ]
  },
  {
   "cell_type": "code",
   "execution_count": 75,
   "metadata": {},
   "outputs": [],
   "source": [
    "def find_smallest_polymer(polymer):\n",
    "    smallest_length = float('Inf')\n",
    "    for unit in range(ord('a'), ord('z')+1):\n",
    "        edited_polymer = remove_unit(chr(unit), polymer)\n",
    "        collapsed_polymer = collapse(edited_polymer)\n",
    "        if len(collapsed_polymer) < smallest_length:\n",
    "            smallest_length = len(collapsed_polymer)\n",
    "    return smallest_length"
   ]
  },
  {
   "cell_type": "code",
   "execution_count": 77,
   "metadata": {},
   "outputs": [
    {
     "data": {
      "text/plain": [
       "5148"
      ]
     },
     "execution_count": 77,
     "metadata": {},
     "output_type": "execute_result"
    }
   ],
   "source": [
    "f = open('input.txt', 'r')\n",
    "find_smallest_polymer(f.readline().strip())"
   ]
  }
 ],
 "metadata": {
  "kernelspec": {
   "display_name": "Python 3",
   "language": "python",
   "name": "python3"
  },
  "language_info": {
   "codemirror_mode": {
    "name": "ipython",
    "version": 3
   },
   "file_extension": ".py",
   "mimetype": "text/x-python",
   "name": "python",
   "nbconvert_exporter": "python",
   "pygments_lexer": "ipython3",
   "version": "3.7.0"
  }
 },
 "nbformat": 4,
 "nbformat_minor": 2
}
