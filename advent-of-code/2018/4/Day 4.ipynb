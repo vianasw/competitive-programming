{
 "cells": [
  {
   "cell_type": "markdown",
   "metadata": {},
   "source": [
    "Problem definition: https://adventofcode.com/2018/day/4"
   ]
  },
  {
   "cell_type": "markdown",
   "metadata": {},
   "source": [
    "# Part 1"
   ]
  },
  {
   "cell_type": "code",
   "execution_count": 1,
   "metadata": {},
   "outputs": [],
   "source": [
    "from datetime import datetime\n",
    "from collections import namedtuple\n",
    "from collections import defaultdict"
   ]
  },
  {
   "cell_type": "code",
   "execution_count": 2,
   "metadata": {},
   "outputs": [],
   "source": [
    "Log = namedtuple('Log', 'log_datetime, message')"
   ]
  },
  {
   "cell_type": "code",
   "execution_count": 3,
   "metadata": {},
   "outputs": [],
   "source": [
    "def parse_input(filename):\n",
    "    f = open(filename, 'r')\n",
    "    logs = []\n",
    "    for line in f:\n",
    "        line = line.strip()\n",
    "        log_datetime = datetime.strptime(line[:18], '[%Y-%m-%d %H:%M]')\n",
    "        log_message = line[19:]\n",
    "        logs.append(Log(log_datetime, log_message))\n",
    "    return sorted(logs, key=lambda log: log.log_datetime)"
   ]
  },
  {
   "cell_type": "code",
   "execution_count": 4,
   "metadata": {},
   "outputs": [],
   "source": [
    "logs = parse_input('input.txt')"
   ]
  },
  {
   "cell_type": "code",
   "execution_count": 5,
   "metadata": {},
   "outputs": [],
   "source": [
    "def build_sleeping_records(logs):\n",
    "    sleeping_records = defaultdict(dict)\n",
    "    i = 0\n",
    "    while i < len(logs):\n",
    "        g_id = get_guard_id(logs[i].message)\n",
    "        i += 1\n",
    "        while i < len(logs) - 1 and logs[i].message[:5] != 'Guard':\n",
    "            asleep_min = logs[i].log_datetime.minute\n",
    "            wake_min = logs[i + 1].log_datetime.minute\n",
    "            month, day = logs[i].log_datetime.month, logs[i].log_datetime.day\n",
    "            if (day, month) in sleeping_records[g_id]:\n",
    "                day_record = sleeping_records[g_id][(day, month)]\n",
    "            else:\n",
    "                day_record = [0] * 60\n",
    "                \n",
    "            for m in range(asleep_min, wake_min):\n",
    "                day_record[m] = 1\n",
    "            \n",
    "            sleeping_records[g_id][(day, month)] = day_record\n",
    "            \n",
    "            i += 2\n",
    "    return sleeping_records\n",
    "\n",
    "def get_guard_id(log_message):\n",
    "    return log_message.split(' ')[1]\n",
    "        "
   ]
  },
  {
   "cell_type": "code",
   "execution_count": 6,
   "metadata": {},
   "outputs": [],
   "source": [
    "sleeping_records = build_sleeping_records(logs)"
   ]
  },
  {
   "cell_type": "code",
   "execution_count": 9,
   "metadata": {},
   "outputs": [],
   "source": [
    "def find_guard_most_asleep(sleeping_records):\n",
    "    most_asleep_id = None\n",
    "    max_min = 0\n",
    "    for g_id, records in sleeping_records.items():\n",
    "        minutes = 0\n",
    "        for _, day_record in records.items():\n",
    "            minutes += sum(day_record)\n",
    "        if minutes > max_min:\n",
    "            max_min = minutes\n",
    "            most_asleep_id = g_id            \n",
    "    return most_asleep_id, max_min"
   ]
  },
  {
   "cell_type": "code",
   "execution_count": 10,
   "metadata": {},
   "outputs": [
    {
     "data": {
      "text/plain": [
       "('#1217', 482)"
      ]
     },
     "execution_count": 10,
     "metadata": {},
     "output_type": "execute_result"
    }
   ],
   "source": [
    "find_guard_most_asleep(sleeping_records)"
   ]
  },
  {
   "cell_type": "code",
   "execution_count": 11,
   "metadata": {},
   "outputs": [],
   "source": [
    "def find_most_asleep_minute(guard_records):\n",
    "    t_guard_records = [[guard_records[j][i] for j in range(len(guard_records))] for i in range(len(guard_records[0]))]\n",
    "    max_minutes_asleep = 0\n",
    "    minute = -1\n",
    "    for i in range(len(t_guard_records)):\n",
    "        minutes = sum(t_guard_records[i])\n",
    "        if minutes > max_minutes_asleep:\n",
    "            max_minutes_asleep = minutes\n",
    "            minute = i\n",
    "    return minute, max_minutes_asleep "
   ]
  },
  {
   "cell_type": "code",
   "execution_count": 12,
   "metadata": {},
   "outputs": [],
   "source": [
    "def print_records(g_id, records):\n",
    "    for i in range(len(records)):\n",
    "        print(g_id, end='')\n",
    "        for j in range(len(records[i])):\n",
    "            if records[i][j] == 0:\n",
    "                print('.', end='')\n",
    "            else:\n",
    "                print('#', end='')\n",
    "        print('')"
   ]
  },
  {
   "cell_type": "code",
   "execution_count": 13,
   "metadata": {},
   "outputs": [
    {
     "name": "stdout",
     "output_type": "stream",
     "text": [
      "...........#######################.....##...................\n",
      "....................#######################........########.\n",
      ".......########################.............................\n",
      "........................##############################......\n",
      ".........................#################..................\n",
      ".........................#######################............\n",
      "...........................#######################....#####.\n",
      ".............................#################.......##.....\n",
      ".......#########################......#######...##########..\n",
      ".............................############..........####.....\n",
      "................####################################........\n",
      "...................................##################.......\n",
      "......#######################...........############........\n",
      "########################################################....\n",
      ".........................################...................\n",
      "............................#################...............\n",
      ".##########################################.........#######.\n"
     ]
    }
   ],
   "source": [
    "print_records('', list(sleeping_records['#1217'].values()))"
   ]
  },
  {
   "cell_type": "code",
   "execution_count": 14,
   "metadata": {},
   "outputs": [
    {
     "data": {
      "text/plain": [
       "(40, 16)"
      ]
     },
     "execution_count": 14,
     "metadata": {},
     "output_type": "execute_result"
    }
   ],
   "source": [
    "find_most_asleep_minute(list(sleeping_records['#1217'].values()))"
   ]
  },
  {
   "cell_type": "code",
   "execution_count": 15,
   "metadata": {},
   "outputs": [
    {
     "data": {
      "text/plain": [
       "48680"
      ]
     },
     "execution_count": 15,
     "metadata": {},
     "output_type": "execute_result"
    }
   ],
   "source": [
    "1217 * 40"
   ]
  },
  {
   "cell_type": "markdown",
   "metadata": {},
   "source": [
    "# Part 2"
   ]
  },
  {
   "cell_type": "code",
   "execution_count": 19,
   "metadata": {},
   "outputs": [],
   "source": [
    "def find_most_frequently_asleep_same_minute(sleeping_records):\n",
    "    m = 0\n",
    "    candidate_g_id = None\n",
    "    candidate_minute = -1\n",
    "    for g_id, records in sleeping_records.items():\n",
    "        minute, minutes = find_most_asleep_minute(list(records.values()))\n",
    "        if minutes > m:\n",
    "            m = minutes\n",
    "            candidate_g_id = g_id\n",
    "            candidate_minute = minute\n",
    "    return candidate_g_id, candidate_minute"
   ]
  },
  {
   "cell_type": "code",
   "execution_count": 20,
   "metadata": {},
   "outputs": [
    {
     "data": {
      "text/plain": [
       "('#2789', 34)"
      ]
     },
     "execution_count": 20,
     "metadata": {},
     "output_type": "execute_result"
    }
   ],
   "source": [
    "find_most_frequently_asleep_same_minute(sleeping_records)"
   ]
  },
  {
   "cell_type": "code",
   "execution_count": 21,
   "metadata": {},
   "outputs": [
    {
     "data": {
      "text/plain": [
       "94826"
      ]
     },
     "execution_count": 21,
     "metadata": {},
     "output_type": "execute_result"
    }
   ],
   "source": [
    "2789 * 34"
   ]
  }
 ],
 "metadata": {
  "kernelspec": {
   "display_name": "Python 3",
   "language": "python",
   "name": "python3"
  },
  "language_info": {
   "codemirror_mode": {
    "name": "ipython",
    "version": 3
   },
   "file_extension": ".py",
   "mimetype": "text/x-python",
   "name": "python",
   "nbconvert_exporter": "python",
   "pygments_lexer": "ipython3",
   "version": "3.7.0"
  }
 },
 "nbformat": 4,
 "nbformat_minor": 2
}
