{
 "cells": [
  {
   "cell_type": "markdown",
   "metadata": {},
   "source": [
    "Problem definition: https://adventofcode.com/2018/day/3"
   ]
  },
  {
   "cell_type": "markdown",
   "metadata": {},
   "source": [
    "# Part 1"
   ]
  },
  {
   "cell_type": "code",
   "execution_count": 18,
   "metadata": {},
   "outputs": [],
   "source": [
    "from collections import namedtuple"
   ]
  },
  {
   "cell_type": "code",
   "execution_count": 19,
   "metadata": {},
   "outputs": [],
   "source": [
    "Claim = namedtuple('Claim', 'c_id, x, y, width, height')"
   ]
  },
  {
   "cell_type": "code",
   "execution_count": 20,
   "metadata": {},
   "outputs": [],
   "source": [
    "def parse_input(filename):\n",
    "    f = open(filename, 'r')\n",
    "    claims = {}\n",
    "    for line in f:\n",
    "        c_id, _, coord, size = line.strip().split(' ')\n",
    "        x, y = map(int, coord.strip(':').split(','))\n",
    "        w, h = map(int, size.split('x'))\n",
    "        claims[c_id] = Claim(c_id, x, y, w, h)\n",
    "    return claims"
   ]
  },
  {
   "cell_type": "code",
   "execution_count": 21,
   "metadata": {},
   "outputs": [],
   "source": [
    "claims = parse_input('input.txt')"
   ]
  },
  {
   "cell_type": "code",
   "execution_count": 22,
   "metadata": {},
   "outputs": [],
   "source": [
    "def build_board(claims):\n",
    "    board = [[0 for i in range(1000)] for j in range(1000)]\n",
    "    for k, claim in claims.items():\n",
    "        for i in range(claim.x, claim.x + claim.width):\n",
    "            for j in range(claim.y, claim.y + claim.height):\n",
    "                if board[i][j] != 0:\n",
    "                    board[i][j] = 'X'\n",
    "                else:\n",
    "                    board[i][j] = claim.c_id\n",
    "\n",
    "    return board\n",
    "\n",
    "def calculate_overlap(board):\n",
    "    total_area = 0\n",
    "    for i in range(1000):\n",
    "        for j in range(1000):\n",
    "            if board[i][j] == 'X':\n",
    "                total_area += 1\n",
    "    return total_area"
   ]
  },
  {
   "cell_type": "code",
   "execution_count": 23,
   "metadata": {},
   "outputs": [],
   "source": [
    "board = build_board(claims)"
   ]
  },
  {
   "cell_type": "code",
   "execution_count": 24,
   "metadata": {},
   "outputs": [],
   "source": [
    "area = calculate_overlap(board)"
   ]
  },
  {
   "cell_type": "code",
   "execution_count": 25,
   "metadata": {},
   "outputs": [
    {
     "data": {
      "text/plain": [
       "110383"
      ]
     },
     "execution_count": 25,
     "metadata": {},
     "output_type": "execute_result"
    }
   ],
   "source": [
    "area"
   ]
  },
  {
   "cell_type": "markdown",
   "metadata": {},
   "source": [
    "# Part 2"
   ]
  },
  {
   "cell_type": "code",
   "execution_count": 26,
   "metadata": {},
   "outputs": [],
   "source": [
    "def find_intact_claim(claims, board):\n",
    "    for k, claim in claims.items():\n",
    "        intact = True\n",
    "        if is_intact(claim, board):\n",
    "            return claim\n",
    "    return None\n",
    "\n",
    "\n",
    "def is_intact(claim, board):\n",
    "    for i in range(claim.x, claim.x + claim.width):\n",
    "        for j in range(claim.y, claim.y + claim.height):\n",
    "            if board[i][j] == 'X':\n",
    "                return False\n",
    "    return True"
   ]
  },
  {
   "cell_type": "code",
   "execution_count": 27,
   "metadata": {},
   "outputs": [
    {
     "data": {
      "text/plain": [
       "Claim(c_id='#129', x=613, y=496, width=14, height=29)"
      ]
     },
     "execution_count": 27,
     "metadata": {},
     "output_type": "execute_result"
    }
   ],
   "source": [
    "find_intact_claim(claims, board)"
   ]
  }
 ],
 "metadata": {
  "kernelspec": {
   "display_name": "Python 3",
   "language": "python",
   "name": "python3"
  },
  "language_info": {
   "codemirror_mode": {
    "name": "ipython",
    "version": 3
   },
   "file_extension": ".py",
   "mimetype": "text/x-python",
   "name": "python",
   "nbconvert_exporter": "python",
   "pygments_lexer": "ipython3",
   "version": "3.7.0"
  }
 },
 "nbformat": 4,
 "nbformat_minor": 2
}
