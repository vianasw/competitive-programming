{
 "cells": [
  {
   "cell_type": "markdown",
   "metadata": {},
   "source": [
    "Problem definition: https://adventofcode.com/2018/day/14"
   ]
  },
  {
   "cell_type": "markdown",
   "metadata": {},
   "source": [
    "# Part 1"
   ]
  },
  {
   "cell_type": "code",
   "execution_count": 63,
   "metadata": {},
   "outputs": [],
   "source": [
    "def recipes_scoreboard(initial_state, num_recipes, should_print=False):    \n",
    "    elf1 = 0\n",
    "    elf2 = 1\n",
    "    cur_recipes = initial_state\n",
    "    \n",
    "    total_recipes = num_recipes + 10\n",
    "    while len(cur_recipes) < total_recipes:\n",
    "        n = cur_recipes[elf1] + cur_recipes[elf2]\n",
    "        if n < 10:\n",
    "            cur_recipes.append(n)\n",
    "        else:\n",
    "            cur_recipes.append(n//10)\n",
    "            cur_recipes.append(n%10)\n",
    "            \n",
    "        elf1 = (elf1 + cur_recipes[elf1] + 1) % len(cur_recipes)\n",
    "        elf2 = (elf2 + cur_recipes[elf2] + 1) % len(cur_recipes)\n",
    "        \n",
    "        if should_print:\n",
    "            for i in range(len(cur_recipes)):\n",
    "                if i == elf1:\n",
    "                    print('({})'.format(cur_recipes[i]), end=' ')\n",
    "                elif i == elf2:\n",
    "                    print('[{}]'.format(cur_recipes[i]), end=' ')\n",
    "                else:\n",
    "                    print(cur_recipes[i], end=' ')\n",
    "            print('')\n",
    "    return ''.join(map(str, cur_recipes[-10:]))"
   ]
  },
  {
   "cell_type": "code",
   "execution_count": 64,
   "metadata": {},
   "outputs": [
    {
     "data": {
      "text/plain": [
       "'7162937112'"
      ]
     },
     "execution_count": 64,
     "metadata": {},
     "output_type": "execute_result"
    }
   ],
   "source": [
    "recipes_scoreboard([3, 7], 323081, False)"
   ]
  },
  {
   "cell_type": "markdown",
   "metadata": {},
   "source": [
    "# Part 2"
   ]
  },
  {
   "cell_type": "code",
   "execution_count": 65,
   "metadata": {},
   "outputs": [],
   "source": [
    "def recipes_scoreboard2(initial_state, desired_score, should_print=False):    \n",
    "    elf1 = 0\n",
    "    elf2 = 1\n",
    "    cur_recipes = initial_state\n",
    "    desired_score = [int(d) for d in desired_score]\n",
    "    while cur_recipes[-len(desired_score):] != desired_score and \\\n",
    "        cur_recipes[-len(desired_score)-1:-1] != desired_score:\n",
    "        \n",
    "        n = cur_recipes[elf1] + cur_recipes[elf2]\n",
    "        if n < 10:\n",
    "            cur_recipes.append(n)\n",
    "        else:\n",
    "            cur_recipes.append(n//10)\n",
    "            cur_recipes.append(n%10)\n",
    "            \n",
    "        elf1 = (elf1 + cur_recipes[elf1] + 1) % len(cur_recipes)\n",
    "        elf2 = (elf2 + cur_recipes[elf2] + 1) % len(cur_recipes)\n",
    "        \n",
    "        if should_print:\n",
    "            for i in range(len(cur_recipes)):\n",
    "                if i == elf1:\n",
    "                    print('({})'.format(cur_recipes[i]), end=' ')\n",
    "                elif i == elf2:\n",
    "                    print('[{}]'.format(cur_recipes[i]), end=' ')\n",
    "                else:\n",
    "                    print(cur_recipes[i], end=' ')\n",
    "            print('')\n",
    "    if cur_recipes[-len(desired_score):] == desired_score:\n",
    "        return len(cur_recipes) - len(desired_score)\n",
    "    return len(cur_recipes) - len(desired_score) - 1"
   ]
  },
  {
   "cell_type": "code",
   "execution_count": 69,
   "metadata": {},
   "outputs": [
    {
     "data": {
      "text/plain": [
       "9"
      ]
     },
     "execution_count": 69,
     "metadata": {},
     "output_type": "execute_result"
    }
   ],
   "source": [
    "recipes_scoreboard2([3, 7], '51589')"
   ]
  },
  {
   "cell_type": "code",
   "execution_count": 67,
   "metadata": {},
   "outputs": [
    {
     "name": "stdout",
     "output_type": "stream",
     "text": [
      "(3) [7] 1 0 \n",
      "3 7 1 [0] (1) 0 \n",
      "3 7 1 0 [1] 0 (1) \n",
      "(3) 7 1 0 1 0 [1] 2 \n",
      "3 7 1 0 (1) 0 1 2 [4] \n",
      "3 7 1 [0] 1 0 (1) 2 4 5 \n"
     ]
    },
    {
     "data": {
      "text/plain": [
       "5"
      ]
     },
     "execution_count": 67,
     "metadata": {},
     "output_type": "execute_result"
    }
   ],
   "source": [
    "recipes_scoreboard4([3, 7], '01245', True)"
   ]
  },
  {
   "cell_type": "code",
   "execution_count": 68,
   "metadata": {},
   "outputs": [
    {
     "data": {
      "text/plain": [
       "20195890"
      ]
     },
     "execution_count": 68,
     "metadata": {},
     "output_type": "execute_result"
    }
   ],
   "source": [
    "recipes_scoreboard4([3, 7], '323081')"
   ]
  }
 ],
 "metadata": {
  "kernelspec": {
   "display_name": "Python 3",
   "language": "python",
   "name": "python3"
  },
  "language_info": {
   "codemirror_mode": {
    "name": "ipython",
    "version": 3
   },
   "file_extension": ".py",
   "mimetype": "text/x-python",
   "name": "python",
   "nbconvert_exporter": "python",
   "pygments_lexer": "ipython3",
   "version": "3.7.0"
  }
 },
 "nbformat": 4,
 "nbformat_minor": 2
}
