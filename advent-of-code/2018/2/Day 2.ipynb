{
 "cells": [
  {
   "cell_type": "markdown",
   "metadata": {},
   "source": [
    "Problem definition: https://adventofcode.com/2018/day/2"
   ]
  },
  {
   "cell_type": "markdown",
   "metadata": {},
   "source": [
    "# Part 1"
   ]
  },
  {
   "cell_type": "code",
   "execution_count": 2,
   "metadata": {},
   "outputs": [],
   "source": [
    "from collections import Counter"
   ]
  },
  {
   "cell_type": "code",
   "execution_count": 3,
   "metadata": {},
   "outputs": [],
   "source": [
    "def same_letter_exactly(times, box_id):\n",
    "    letter_counter = dict(Counter(box_id))\n",
    "    counts = Counter(letter_counter.values())\n",
    "    return counts[times] > 0"
   ]
  },
  {
   "cell_type": "code",
   "execution_count": 10,
   "metadata": {},
   "outputs": [],
   "source": [
    "input_file = open(\"input.txt\", 'r')\n",
    "box_ids = [line.strip() for line in input_file]"
   ]
  },
  {
   "cell_type": "code",
   "execution_count": 7,
   "metadata": {},
   "outputs": [],
   "source": [
    "def checksum(box_ids):\n",
    "    twice = 0\n",
    "    three_times = 0\n",
    "    for box_id in box_ids:\n",
    "        if same_letter_exactly(2, box_id):\n",
    "            twice += 1\n",
    "        if same_letter_exactly(3, box_id):\n",
    "            three_times += 1\n",
    "    return twice * three_times"
   ]
  },
  {
   "cell_type": "code",
   "execution_count": 8,
   "metadata": {},
   "outputs": [
    {
     "data": {
      "text/plain": [
       "7533"
      ]
     },
     "execution_count": 8,
     "metadata": {},
     "output_type": "execute_result"
    }
   ],
   "source": [
    "checksum(box_ids)"
   ]
  },
  {
   "cell_type": "markdown",
   "metadata": {},
   "source": [
    "# Part 2"
   ]
  },
  {
   "cell_type": "code",
   "execution_count": 44,
   "metadata": {},
   "outputs": [],
   "source": [
    "from collections import defaultdict"
   ]
  },
  {
   "cell_type": "code",
   "execution_count": 45,
   "metadata": {},
   "outputs": [],
   "source": [
    "def build_buckets(box_ids):\n",
    "    buckets = defaultdict(list)\n",
    "    for box_id in box_ids:\n",
    "        for i in range(len(box_id)):\n",
    "            bucket_key = box_id[:i] + '_' + box_id[i+1:]\n",
    "            buckets[bucket_key].append(box_id)\n",
    "    return buckets"
   ]
  },
  {
   "cell_type": "code",
   "execution_count": 47,
   "metadata": {},
   "outputs": [],
   "source": [
    "buckets = build_buckets(box_ids)"
   ]
  },
  {
   "cell_type": "code",
   "execution_count": 51,
   "metadata": {},
   "outputs": [],
   "source": [
    "def get_common_letters(buckets):\n",
    "    common_letters = []\n",
    "    for key, bucket in buckets.items():\n",
    "        if len(bucket) > 1:\n",
    "            common_letters.append(key[:key.find('_')] + key[key.find('_') + 1:])\n",
    "    return common_letters"
   ]
  },
  {
   "cell_type": "code",
   "execution_count": 52,
   "metadata": {},
   "outputs": [
    {
     "data": {
      "text/plain": [
       "['mphcuasvrnjzzkbgdtqeoylva']"
      ]
     },
     "execution_count": 52,
     "metadata": {},
     "output_type": "execute_result"
    }
   ],
   "source": [
    "get_common_letters(buckets)"
   ]
  }
 ],
 "metadata": {
  "kernelspec": {
   "display_name": "Python 3",
   "language": "python",
   "name": "python3"
  },
  "language_info": {
   "codemirror_mode": {
    "name": "ipython",
    "version": 3
   },
   "file_extension": ".py",
   "mimetype": "text/x-python",
   "name": "python",
   "nbconvert_exporter": "python",
   "pygments_lexer": "ipython3",
   "version": "3.7.0"
  }
 },
 "nbformat": 4,
 "nbformat_minor": 2
}
