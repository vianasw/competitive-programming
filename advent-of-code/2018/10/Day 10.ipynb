{
 "cells": [
  {
   "cell_type": "markdown",
   "metadata": {},
   "source": [
    "Problem definition: https://adventofcode.com/2018/day/10"
   ]
  },
  {
   "cell_type": "markdown",
   "metadata": {},
   "source": [
    "# Part 1"
   ]
  },
  {
   "cell_type": "code",
   "execution_count": 212,
   "metadata": {},
   "outputs": [],
   "source": [
    "def parse_file(filename):\n",
    "    f = open(filename, 'r')\n",
    "    positions = []\n",
    "    for line in f:\n",
    "        p = list(map(int, line[10:line.find('>')].split(',')))\n",
    "        velocity_begin = line.find('velocity') + len('velocity=<')\n",
    "        v = list(map(int, line[velocity_begin:line.find('>', velocity_begin)].split(',')))\n",
    "        positions.append((p, v))\n",
    "    return positions"
   ]
  },
  {
   "cell_type": "code",
   "execution_count": 213,
   "metadata": {},
   "outputs": [],
   "source": [
    "positions = parse_file('example1.txt')"
   ]
  },
  {
   "cell_type": "code",
   "execution_count": 237,
   "metadata": {},
   "outputs": [],
   "source": [
    "def simulate(positions):\n",
    "    tic = 0\n",
    "    max_x = max([p[0][0] for p in positions])\n",
    "    max_y = max([p[0][1] for p in positions])\n",
    "    s = 0\n",
    "    #while not alligned(positions):\n",
    "    for i in range(10454):\n",
    "        for p, v in positions:\n",
    "            p[0], p[1] = p[0] + v[0], p[1] + v[1]\n",
    "        tic += 1\n",
    "        c_max_x = max([p[0][0] for p in positions])\n",
    "        c_max_y = max([p[0][1] for p in positions])\n",
    "        if c_max_x < max_x and c_max_y < max_y:\n",
    "            max_x = c_max_x\n",
    "            max_y = c_max_y\n",
    "            s = i\n",
    "    return positions, s\n",
    "\n",
    "def alligned(positions):\n",
    "    sorted_pos = sorted([p[0] for p in positions], key=lambda p: p[0])\n",
    "    consecutives = 0\n",
    "    for i in range(len(sorted_pos) - 1):\n",
    "        if sorted_pos[i][0] == sorted_pos[i + 1][0]:\n",
    "            consecutives += 1\n",
    "        else:\n",
    "            consecutives = 0\n",
    "        if consecutives == 6:\n",
    "            return True\n",
    "    return False"
   ]
  },
  {
   "cell_type": "code",
   "execution_count": 215,
   "metadata": {},
   "outputs": [],
   "source": [
    "ps = simulate(positions)"
   ]
  },
  {
   "cell_type": "code",
   "execution_count": 282,
   "metadata": {},
   "outputs": [],
   "source": [
    "def build_matrix(positions):\n",
    "    max_x = max([p[0][0] for p in positions])\n",
    "    max_y = max([p[0][1] for p in positions])\n",
    "    \n",
    "    min_x = min([p[0][0] for p in positions])    \n",
    "    min_y = min([p[0][1] for p in positions])\n",
    "\n",
    "    new_maxx = max_x - min_x\n",
    "    new_maxy = max_y - min_y\n",
    "    value = min_x\n",
    "    (new_maxx) // (max_x - min_x) * (value - max_x) + new_maxx\n",
    "    m = [['.' for i in range(max_x - min_x + 1)] for j in range(max_y - min_y + 1)]\n",
    "\n",
    "    for p in ps:\n",
    "        x, y = p[0][0], p[0][1]\n",
    "        x = (new_maxx) // (max_x - min_x) * (x - max_x) + new_maxx\n",
    "        y = (new_maxy) // (max_y - min_y) * (y - max_y) + new_maxy\n",
    "        m[y][x] = '#'\n",
    "    return m"
   ]
  },
  {
   "cell_type": "code",
   "execution_count": 217,
   "metadata": {},
   "outputs": [],
   "source": [
    "def print_matrix(m):\n",
    "    for i in range(len(m)):\n",
    "        for j in range(len(m[0])):\n",
    "            print(m[i][j], end='')\n",
    "        print('')"
   ]
  },
  {
   "cell_type": "code",
   "execution_count": 218,
   "metadata": {},
   "outputs": [
    {
     "name": "stdout",
     "output_type": "stream",
     "text": [
      "..................\n",
      "..................\n",
      "..................\n",
      "....#...#..###....\n",
      "....#...#...#.....\n",
      "....#...#...#.....\n",
      "....#####...#.....\n",
      "....#...#...#.....\n",
      "....#...#...#.....\n",
      "....#...#...#.....\n",
      "....#...#..###....\n",
      "..................\n",
      "..................\n",
      "..................\n"
     ]
    }
   ],
   "source": [
    "m = build_matrix(positions)\n",
    "print_matrix(m)"
   ]
  },
  {
   "cell_type": "code",
   "execution_count": 262,
   "metadata": {},
   "outputs": [],
   "source": [
    "positions = parse_file('input.txt')"
   ]
  },
  {
   "cell_type": "code",
   "execution_count": 263,
   "metadata": {},
   "outputs": [],
   "source": [
    "ps, s = simulate(positions)"
   ]
  },
  {
   "cell_type": "code",
   "execution_count": 283,
   "metadata": {},
   "outputs": [],
   "source": [
    "m = build_matrix(ps)"
   ]
  },
  {
   "cell_type": "code",
   "execution_count": 285,
   "metadata": {},
   "outputs": [
    {
     "name": "stdout",
     "output_type": "stream",
     "text": [
      "#....#..#####...#####.....##....#.......######..#####...#....#\n",
      "##...#..#....#..#....#...#..#...#............#..#....#..#....#\n",
      "##...#..#....#..#....#..#....#..#............#..#....#..#....#\n",
      "#.#..#..#....#..#....#..#....#..#...........#...#....#..#....#\n",
      "#.#..#..#####...#####...#....#..#..........#....#####...######\n",
      "#..#.#..#....#..#..#....######..#.........#.....#.......#....#\n",
      "#..#.#..#....#..#...#...#....#..#........#......#.......#....#\n",
      "#...##..#....#..#...#...#....#..#.......#.......#.......#....#\n",
      "#...##..#....#..#....#..#....#..#.......#.......#.......#....#\n",
      "#....#..#####...#....#..#....#..######..######..#.......#....#\n"
     ]
    }
   ],
   "source": [
    "print_matrix(m)"
   ]
  }
 ],
 "metadata": {
  "kernelspec": {
   "display_name": "Python 3",
   "language": "python",
   "name": "python3"
  },
  "language_info": {
   "codemirror_mode": {
    "name": "ipython",
    "version": 3
   },
   "file_extension": ".py",
   "mimetype": "text/x-python",
   "name": "python",
   "nbconvert_exporter": "python",
   "pygments_lexer": "ipython3",
   "version": "3.7.0"
  }
 },
 "nbformat": 4,
 "nbformat_minor": 2
}
