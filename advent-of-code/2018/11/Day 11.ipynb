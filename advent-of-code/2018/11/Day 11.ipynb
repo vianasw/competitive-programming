{
 "cells": [
  {
   "cell_type": "markdown",
   "metadata": {},
   "source": [
    "Problem definition: https://adventofcode.com/2018/day/11"
   ]
  },
  {
   "cell_type": "markdown",
   "metadata": {},
   "source": [
    "# Part 1"
   ]
  },
  {
   "cell_type": "code",
   "execution_count": 2,
   "metadata": {},
   "outputs": [],
   "source": [
    "def power_level(x, y, serial_number):\n",
    "    rack_id = x + 10\n",
    "    return ((rack_id * y + serial_number) * rack_id)//100 % 10 - 5"
   ]
  },
  {
   "cell_type": "markdown",
   "metadata": {},
   "source": [
    "* Fuel cell at  122,79, grid serial number 57: power level -5.\n",
    "* Fuel cell at 217,196, grid serial number 39: power level  0.\n",
    "* Fuel cell at 101,153, grid serial number 71: power level  4."
   ]
  },
  {
   "cell_type": "code",
   "execution_count": 3,
   "metadata": {},
   "outputs": [
    {
     "data": {
      "text/plain": [
       "-5"
      ]
     },
     "execution_count": 3,
     "metadata": {},
     "output_type": "execute_result"
    }
   ],
   "source": [
    "power_level(122, 79, 57)"
   ]
  },
  {
   "cell_type": "code",
   "execution_count": 4,
   "metadata": {},
   "outputs": [
    {
     "data": {
      "text/plain": [
       "0"
      ]
     },
     "execution_count": 4,
     "metadata": {},
     "output_type": "execute_result"
    }
   ],
   "source": [
    "power_level(217, 196, 39)"
   ]
  },
  {
   "cell_type": "code",
   "execution_count": 5,
   "metadata": {},
   "outputs": [
    {
     "data": {
      "text/plain": [
       "4"
      ]
     },
     "execution_count": 5,
     "metadata": {},
     "output_type": "execute_result"
    }
   ],
   "source": [
    "power_level(101, 153, 71)"
   ]
  },
  {
   "cell_type": "code",
   "execution_count": 23,
   "metadata": {},
   "outputs": [],
   "source": [
    "def build_grid(serial_number, width=300, height=300):\n",
    "    grid = [[0] * (width+1) for i in range(height+1)]\n",
    "    for i in range(1, width+1):\n",
    "        for j in range(1, height+1):\n",
    "            grid[i][j] = power_level(j, i, serial_number)\n",
    "    return grid"
   ]
  },
  {
   "cell_type": "code",
   "execution_count": 35,
   "metadata": {},
   "outputs": [],
   "source": [
    "def find_largest_fuel_cels_3x3(grid):\n",
    "    max_found = float('-Inf')\n",
    "    x, y = None, None\n",
    "    for i in range(1, len(grid) - 3):\n",
    "        for j in range(1, len(grid[0]) - 3):\n",
    "            total = 0\n",
    "            for k in range(i, i + 3):\n",
    "                for l in range(j, j + 3):\n",
    "                    total += grid[k][l]\n",
    "            if total > max_found:\n",
    "                max_found = total\n",
    "                x, y = j, i\n",
    "    return x, y"
   ]
  },
  {
   "cell_type": "code",
   "execution_count": 16,
   "metadata": {},
   "outputs": [
    {
     "data": {
      "text/plain": [
       "(33, 45)"
      ]
     },
     "execution_count": 16,
     "metadata": {},
     "output_type": "execute_result"
    }
   ],
   "source": [
    "find_largest_fuel_cels_3x3(build_grid(18))"
   ]
  },
  {
   "cell_type": "code",
   "execution_count": 17,
   "metadata": {},
   "outputs": [
    {
     "data": {
      "text/plain": [
       "(21, 61)"
      ]
     },
     "execution_count": 17,
     "metadata": {},
     "output_type": "execute_result"
    }
   ],
   "source": [
    "find_largest_fuel_cels_3x3(build_grid(42))"
   ]
  },
  {
   "cell_type": "code",
   "execution_count": 18,
   "metadata": {},
   "outputs": [
    {
     "data": {
      "text/plain": [
       "(243, 68)"
      ]
     },
     "execution_count": 18,
     "metadata": {},
     "output_type": "execute_result"
    }
   ],
   "source": [
    "find_largest_fuel_cels_3x3(build_grid(8444))"
   ]
  },
  {
   "cell_type": "markdown",
   "metadata": {},
   "source": [
    "# Part 2"
   ]
  },
  {
   "cell_type": "code",
   "execution_count": 65,
   "metadata": {},
   "outputs": [],
   "source": [
    "def find_largest_fuel_cels_nxn(grid):\n",
    "    cache = {}\n",
    "    max_found = float('-Inf')\n",
    "    x, y = None, None\n",
    "    s = 1\n",
    "    for i in range(1, len(grid)):\n",
    "        for j in range(1, len(grid[0])):\n",
    "            cache[(j, i, 1)] = grid[i][j]\n",
    "            if grid[i][j] > max_found:\n",
    "                max_found = grid[i][j]\n",
    "                x, y = j, i\n",
    "                \n",
    "    for size in range(2, len(grid)):\n",
    "        for i in range(1, len(grid) - size):\n",
    "            for j in range(1, len(grid[0]) - size):\n",
    "                if size > 2 and size % 2 == 0 and (j, i, size // 2) in cache and (j + size//2, i, size // 2) in cache and (j, i + size//2, size // 2) in cache and (j + size//2, i + size//2, size // 2) in cache:\n",
    "                    total = cache[(j, i, size//2)]\n",
    "                    total += cache[(j + size//2, i, size//2)]\n",
    "                    total += cache[(j, i + size//2, size//2)]\n",
    "                    total += cache[(j + size//2, i + size//2, size//2)]\n",
    "                else:\n",
    "                    total = cache[(j, i, size - 1)]\n",
    "\n",
    "                    for k in range(i, i + size - 1):\n",
    "                        total += grid[k][j + size - 1]\n",
    "                    for l in range(j, j + size):\n",
    "                        total += grid[i + size - 1][l]\n",
    "                    \n",
    "                cache[(j, i, size)] = total\n",
    "                if total > max_found:\n",
    "                    max_found = total\n",
    "                    x, y = j, i\n",
    "                    s = size\n",
    "    return x, y, s\n",
    "    "
   ]
  },
  {
   "cell_type": "markdown",
   "metadata": {},
   "source": [
    "* For grid serial number 18, the largest total square (with a total power of 113) is 16x16 and has a top-left corner of 90,269, so its identifier is 90,269,16.\n",
    "* For grid serial number 42, the largest total square (with a total power of 119) is 12x12 and has a top-left corner of 232,251, so its identifier is 232,251,12.\n"
   ]
  },
  {
   "cell_type": "code",
   "execution_count": 66,
   "metadata": {},
   "outputs": [
    {
     "data": {
      "text/plain": [
       "(90, 269, 16)"
      ]
     },
     "execution_count": 66,
     "metadata": {},
     "output_type": "execute_result"
    }
   ],
   "source": [
    "find_largest_fuel_cels_nxn(build_grid(18, 300, 300))"
   ]
  },
  {
   "cell_type": "code",
   "execution_count": 45,
   "metadata": {},
   "outputs": [
    {
     "name": "stdout",
     "output_type": "stream",
     "text": [
      "29\n"
     ]
    },
    {
     "data": {
      "text/plain": [
       "(33, 45)"
      ]
     },
     "execution_count": 45,
     "metadata": {},
     "output_type": "execute_result"
    }
   ],
   "source": [
    "find_largest_fuel_cels_3x3(build_grid(18, 300, 300))"
   ]
  },
  {
   "cell_type": "code",
   "execution_count": 57,
   "metadata": {},
   "outputs": [
    {
     "name": "stdout",
     "output_type": "stream",
     "text": [
      "30\n",
      "-4\n"
     ]
    },
    {
     "data": {
      "text/plain": [
       "(21, 61, 3)"
      ]
     },
     "execution_count": 57,
     "metadata": {},
     "output_type": "execute_result"
    }
   ],
   "source": [
    "find_largest_fuel_cels_nxn(build_grid(42))"
   ]
  },
  {
   "cell_type": "code",
   "execution_count": 67,
   "metadata": {},
   "outputs": [
    {
     "data": {
      "text/plain": [
       "(236, 252, 12)"
      ]
     },
     "execution_count": 67,
     "metadata": {},
     "output_type": "execute_result"
    }
   ],
   "source": [
    "find_largest_fuel_cels_nxn(build_grid(8444))"
   ]
  },
  {
   "cell_type": "code",
   "execution_count": null,
   "metadata": {},
   "outputs": [],
   "source": []
  }
 ],
 "metadata": {
  "kernelspec": {
   "display_name": "Python 3",
   "language": "python",
   "name": "python3"
  },
  "language_info": {
   "codemirror_mode": {
    "name": "ipython",
    "version": 3
   },
   "file_extension": ".py",
   "mimetype": "text/x-python",
   "name": "python",
   "nbconvert_exporter": "python",
   "pygments_lexer": "ipython3",
   "version": "3.7.0"
  }
 },
 "nbformat": 4,
 "nbformat_minor": 2
}
